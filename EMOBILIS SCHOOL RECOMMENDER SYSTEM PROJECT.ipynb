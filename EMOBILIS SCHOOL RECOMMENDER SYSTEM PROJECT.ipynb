{
 "cells": [
  {
   "cell_type": "markdown",
   "id": "ecfd120d",
   "metadata": {},
   "source": [
    "##Description\n",
    "This is a school recommender system project aimed at assisting learners transitioning to high school in selection of\n",
    "institutions according to their personal preferences.\n",
    "\n",
    "\n",
    "##Question definiton\n",
    "Many learners in primary schools would like to be placed in the best institution at secondary level.Making the\n",
    "decision on which specific institution however proves to be a challenge as information about a certain institution\n",
    "they probably only hear about is not as readily available to them and their parents/guardians,probably only hearsay.\n",
    "I prototyped a school recommender system to assistthem in making these decisions.\n",
    "\n",
    "\n",
    "\n",
    "##Data Collection\n",
    "I made a google form and shared it to a number of platforms for the collection of the data.The data collected is first hand data."
   ]
  },
  {
   "cell_type": "markdown",
   "id": "187143b7",
   "metadata": {},
   "source": [
    "##DATA CLEANING"
   ]
  },
  {
   "cell_type": "code",
   "execution_count": 1,
   "id": "1e3cecaa",
   "metadata": {},
   "outputs": [],
   "source": [
    "import pandas as pd\n",
    "import numpy as np\n",
    "import seaborn as sns\n",
    "import matplotlib.pyplot as plt\n",
    "%matplotlib inline"
   ]
  },
  {
   "cell_type": "code",
   "execution_count": 2,
   "id": "13e606b3",
   "metadata": {},
   "outputs": [
    {
     "data": {
      "text/html": [
       "<div>\n",
       "<style scoped>\n",
       "    .dataframe tbody tr th:only-of-type {\n",
       "        vertical-align: middle;\n",
       "    }\n",
       "\n",
       "    .dataframe tbody tr th {\n",
       "        vertical-align: top;\n",
       "    }\n",
       "\n",
       "    .dataframe thead th {\n",
       "        text-align: right;\n",
       "    }\n",
       "</style>\n",
       "<table border=\"1\" class=\"dataframe\">\n",
       "  <thead>\n",
       "    <tr style=\"text-align: right;\">\n",
       "      <th></th>\n",
       "      <th>Timestamp</th>\n",
       "      <th>Education Level</th>\n",
       "      <th>Sex</th>\n",
       "      <th>Age</th>\n",
       "      <th>What single most factor would you consider when selecting an academic institution?</th>\n",
       "      <th>What other factors would you consider?</th>\n",
       "      <th>Would distance from home make you decline attending an academic institution if distance learning programs are not offered if all your preferences are met?</th>\n",
       "      <th>What single most factor would you consider when selecting a high school for yourself or a sibling/friend?</th>\n",
       "      <th>Would you consider undertaking distance learning programs?(Studying Online)</th>\n",
       "      <th>Would you consider distance learning programs for someone in  high school?</th>\n",
       "      <th>If yes, please specify why if no, please specify why too</th>\n",
       "    </tr>\n",
       "  </thead>\n",
       "  <tbody>\n",
       "    <tr>\n",
       "      <th>0</th>\n",
       "      <td>2022/08/25 11:04:58 PM MDT</td>\n",
       "      <td>University</td>\n",
       "      <td>Male</td>\n",
       "      <td>19</td>\n",
       "      <td>Academic Performance</td>\n",
       "      <td>School fees</td>\n",
       "      <td>No</td>\n",
       "      <td>Academic performance</td>\n",
       "      <td>Yes</td>\n",
       "      <td>No</td>\n",
       "      <td>It requires much supervision to ensure the stu...</td>\n",
       "    </tr>\n",
       "    <tr>\n",
       "      <th>1</th>\n",
       "      <td>2022/08/25 11:12:22 PM MDT</td>\n",
       "      <td>University</td>\n",
       "      <td>Male</td>\n",
       "      <td>24</td>\n",
       "      <td>School Fees(On both termly or yearly basis)</td>\n",
       "      <td>Academic perfomance</td>\n",
       "      <td>Yes</td>\n",
       "      <td>Academic perfomance</td>\n",
       "      <td>Yes</td>\n",
       "      <td>Yes</td>\n",
       "      <td>Flexibility to undertake other activities</td>\n",
       "    </tr>\n",
       "    <tr>\n",
       "      <th>2</th>\n",
       "      <td>2022/08/25 11:28:00 PM MDT</td>\n",
       "      <td>Technical College</td>\n",
       "      <td>Male</td>\n",
       "      <td>33</td>\n",
       "      <td>School Fees(On both termly or yearly basis)</td>\n",
       "      <td>Flexibility of programme</td>\n",
       "      <td>Yes</td>\n",
       "      <td>Discipline</td>\n",
       "      <td>Yes</td>\n",
       "      <td>Yes</td>\n",
       "      <td>Close supervision purposes</td>\n",
       "    </tr>\n",
       "    <tr>\n",
       "      <th>3</th>\n",
       "      <td>2022/08/25 11:39:01 PM MDT</td>\n",
       "      <td>University</td>\n",
       "      <td>Male</td>\n",
       "      <td>45</td>\n",
       "      <td>Academic Performance</td>\n",
       "      <td>quality</td>\n",
       "      <td>Yes</td>\n",
       "      <td>quality</td>\n",
       "      <td>Maybe</td>\n",
       "      <td>Yes</td>\n",
       "      <td>family member</td>\n",
       "    </tr>\n",
       "    <tr>\n",
       "      <th>4</th>\n",
       "      <td>2022/08/26 12:03:15 AM MDT</td>\n",
       "      <td>University</td>\n",
       "      <td>Female</td>\n",
       "      <td>22</td>\n",
       "      <td>Location</td>\n",
       "      <td>Academic performance, distance from social ame...</td>\n",
       "      <td>No</td>\n",
       "      <td>Academic performance.</td>\n",
       "      <td>Maybe</td>\n",
       "      <td>No</td>\n",
       "      <td>I believe a high school student would benefit ...</td>\n",
       "    </tr>\n",
       "    <tr>\n",
       "      <th>5</th>\n",
       "      <td>2022/08/26 12:14:14 AM MDT</td>\n",
       "      <td>University</td>\n",
       "      <td>Female</td>\n",
       "      <td>56</td>\n",
       "      <td>Academic Performance</td>\n",
       "      <td>Integrity, staff decorum, student discipline m...</td>\n",
       "      <td>No</td>\n",
       "      <td>Academic perfirmance</td>\n",
       "      <td>Yes</td>\n",
       "      <td>No</td>\n",
       "      <td>The need for socialization. School plays a big...</td>\n",
       "    </tr>\n",
       "    <tr>\n",
       "      <th>6</th>\n",
       "      <td>2022/08/26 12:48:12 AM MDT</td>\n",
       "      <td>Technical College</td>\n",
       "      <td>Male</td>\n",
       "      <td>29</td>\n",
       "      <td>Location</td>\n",
       "      <td>Cost</td>\n",
       "      <td>Yes</td>\n",
       "      <td>Performances</td>\n",
       "      <td>Yes</td>\n",
       "      <td>No</td>\n",
       "      <td>Does note have the ability to study online</td>\n",
       "    </tr>\n",
       "    <tr>\n",
       "      <th>7</th>\n",
       "      <td>2022/08/26 1:07:16 AM MDT</td>\n",
       "      <td>University</td>\n",
       "      <td>Male</td>\n",
       "      <td>23</td>\n",
       "      <td>Academic Performance</td>\n",
       "      <td>Location</td>\n",
       "      <td>No</td>\n",
       "      <td>Performance</td>\n",
       "      <td>Yes</td>\n",
       "      <td>No</td>\n",
       "      <td>Highschoolers should go to school, distance le...</td>\n",
       "    </tr>\n",
       "    <tr>\n",
       "      <th>8</th>\n",
       "      <td>2022/08/26 1:41:18 AM MDT</td>\n",
       "      <td>University</td>\n",
       "      <td>Male</td>\n",
       "      <td>25</td>\n",
       "      <td>Academic Performance</td>\n",
       "      <td>LOCATION</td>\n",
       "      <td>Yes</td>\n",
       "      <td>ACADEMIC PERFORMANCE</td>\n",
       "      <td>Yes</td>\n",
       "      <td>Yes</td>\n",
       "      <td>PERSONAL SCHEDULES</td>\n",
       "    </tr>\n",
       "    <tr>\n",
       "      <th>9</th>\n",
       "      <td>2022/08/26 2:36:44 AM MDT</td>\n",
       "      <td>University</td>\n",
       "      <td>Female</td>\n",
       "      <td>30</td>\n",
       "      <td>Academic Performance</td>\n",
       "      <td>Nil</td>\n",
       "      <td>No</td>\n",
       "      <td>Nil</td>\n",
       "      <td>Yes</td>\n",
       "      <td>No</td>\n",
       "      <td>Nil</td>\n",
       "    </tr>\n",
       "  </tbody>\n",
       "</table>\n",
       "</div>"
      ],
      "text/plain": [
       "                    Timestamp    Education Level     Sex Age  \\\n",
       "0  2022/08/25 11:04:58 PM MDT         University    Male  19   \n",
       "1  2022/08/25 11:12:22 PM MDT         University    Male  24   \n",
       "2  2022/08/25 11:28:00 PM MDT  Technical College    Male  33   \n",
       "3  2022/08/25 11:39:01 PM MDT         University    Male  45   \n",
       "4  2022/08/26 12:03:15 AM MDT         University  Female  22   \n",
       "5  2022/08/26 12:14:14 AM MDT         University  Female  56   \n",
       "6  2022/08/26 12:48:12 AM MDT  Technical College    Male  29   \n",
       "7   2022/08/26 1:07:16 AM MDT         University    Male  23   \n",
       "8   2022/08/26 1:41:18 AM MDT         University    Male  25   \n",
       "9   2022/08/26 2:36:44 AM MDT         University  Female  30   \n",
       "\n",
       "  What single most factor would you consider when selecting an academic institution?  \\\n",
       "0                               Academic Performance                                   \n",
       "1        School Fees(On both termly or yearly basis)                                   \n",
       "2        School Fees(On both termly or yearly basis)                                   \n",
       "3                               Academic Performance                                   \n",
       "4                                           Location                                   \n",
       "5                               Academic Performance                                   \n",
       "6                                           Location                                   \n",
       "7                               Academic Performance                                   \n",
       "8                               Academic Performance                                   \n",
       "9                               Academic Performance                                   \n",
       "\n",
       "              What other factors would you consider?  \\\n",
       "0                                       School fees    \n",
       "1                                Academic perfomance   \n",
       "2                          Flexibility of programme    \n",
       "3                                            quality   \n",
       "4  Academic performance, distance from social ame...   \n",
       "5  Integrity, staff decorum, student discipline m...   \n",
       "6                                               Cost   \n",
       "7                                           Location   \n",
       "8                                          LOCATION    \n",
       "9                                                Nil   \n",
       "\n",
       "  Would distance from home make you decline attending an academic institution if distance learning programs are not offered if all your preferences are met?  \\\n",
       "0                                                 No                                                                                                           \n",
       "1                                                Yes                                                                                                           \n",
       "2                                                Yes                                                                                                           \n",
       "3                                                Yes                                                                                                           \n",
       "4                                                 No                                                                                                           \n",
       "5                                                 No                                                                                                           \n",
       "6                                                Yes                                                                                                           \n",
       "7                                                 No                                                                                                           \n",
       "8                                                Yes                                                                                                           \n",
       "9                                                 No                                                                                                           \n",
       "\n",
       "  What single most factor would you consider when selecting a high school for yourself or a sibling/friend?  \\\n",
       "0                              Academic performance                                                           \n",
       "1                                Academic perfomance                                                          \n",
       "2                                        Discipline                                                           \n",
       "3                                            quality                                                          \n",
       "4                              Academic performance.                                                          \n",
       "5                               Academic perfirmance                                                          \n",
       "6                                      Performances                                                           \n",
       "7                                        Performance                                                          \n",
       "8                              ACADEMIC PERFORMANCE                                                           \n",
       "9                                                Nil                                                          \n",
       "\n",
       "  Would you consider undertaking distance learning programs?(Studying Online)  \\\n",
       "0                                                Yes                            \n",
       "1                                                Yes                            \n",
       "2                                                Yes                            \n",
       "3                                              Maybe                            \n",
       "4                                              Maybe                            \n",
       "5                                                Yes                            \n",
       "6                                                Yes                            \n",
       "7                                                Yes                            \n",
       "8                                                Yes                            \n",
       "9                                                Yes                            \n",
       "\n",
       "  Would you consider distance learning programs for someone in  high school?  \\\n",
       "0                                                 No                           \n",
       "1                                                Yes                           \n",
       "2                                                Yes                           \n",
       "3                                                Yes                           \n",
       "4                                                 No                           \n",
       "5                                                 No                           \n",
       "6                                                 No                           \n",
       "7                                                 No                           \n",
       "8                                                Yes                           \n",
       "9                                                 No                           \n",
       "\n",
       "  If yes, please specify why if no, please specify why too  \n",
       "0  It requires much supervision to ensure the stu...        \n",
       "1          Flexibility to undertake other activities        \n",
       "2                        Close supervision purposes         \n",
       "3                                      family member        \n",
       "4  I believe a high school student would benefit ...        \n",
       "5  The need for socialization. School plays a big...        \n",
       "6        Does note have the ability to study online         \n",
       "7  Highschoolers should go to school, distance le...        \n",
       "8                                 PERSONAL SCHEDULES        \n",
       "9                                                Nil        "
      ]
     },
     "execution_count": 2,
     "metadata": {},
     "output_type": "execute_result"
    }
   ],
   "source": [
    "form=pd.read_csv(\"Copy of School Recommender System Form.csv\")\n",
    "form.head(10)"
   ]
  },
  {
   "cell_type": "code",
   "execution_count": 3,
   "id": "5606725a",
   "metadata": {},
   "outputs": [
    {
     "data": {
      "text/plain": [
       "(209, 11)"
      ]
     },
     "execution_count": 3,
     "metadata": {},
     "output_type": "execute_result"
    }
   ],
   "source": [
    "form.shape"
   ]
  },
  {
   "cell_type": "code",
   "execution_count": 4,
   "id": "c5eeb58c",
   "metadata": {},
   "outputs": [
    {
     "data": {
      "text/html": [
       "<div>\n",
       "<style scoped>\n",
       "    .dataframe tbody tr th:only-of-type {\n",
       "        vertical-align: middle;\n",
       "    }\n",
       "\n",
       "    .dataframe tbody tr th {\n",
       "        vertical-align: top;\n",
       "    }\n",
       "\n",
       "    .dataframe thead th {\n",
       "        text-align: right;\n",
       "    }\n",
       "</style>\n",
       "<table border=\"1\" class=\"dataframe\">\n",
       "  <thead>\n",
       "    <tr style=\"text-align: right;\">\n",
       "      <th></th>\n",
       "      <th>Timestamp</th>\n",
       "      <th>Education Level</th>\n",
       "      <th>Sex</th>\n",
       "      <th>Age</th>\n",
       "      <th>What single most factor would you consider when selecting an academic institution?</th>\n",
       "      <th>What other factors would you consider?</th>\n",
       "      <th>Would distance from home make you decline attending an academic institution if distance learning programs are not offered if all your preferences are met?</th>\n",
       "      <th>What single most factor would you consider when selecting a high school for yourself or a sibling/friend?</th>\n",
       "      <th>Would you consider undertaking distance learning programs?(Studying Online)</th>\n",
       "      <th>Would you consider distance learning programs for someone in  high school?</th>\n",
       "      <th>If yes, please specify why if no, please specify why too</th>\n",
       "    </tr>\n",
       "  </thead>\n",
       "  <tbody>\n",
       "    <tr>\n",
       "      <th>count</th>\n",
       "      <td>209</td>\n",
       "      <td>209</td>\n",
       "      <td>209</td>\n",
       "      <td>209</td>\n",
       "      <td>209</td>\n",
       "      <td>209</td>\n",
       "      <td>209</td>\n",
       "      <td>209</td>\n",
       "      <td>209</td>\n",
       "      <td>209</td>\n",
       "      <td>204</td>\n",
       "    </tr>\n",
       "    <tr>\n",
       "      <th>unique</th>\n",
       "      <td>209</td>\n",
       "      <td>22</td>\n",
       "      <td>2</td>\n",
       "      <td>61</td>\n",
       "      <td>5</td>\n",
       "      <td>146</td>\n",
       "      <td>2</td>\n",
       "      <td>102</td>\n",
       "      <td>3</td>\n",
       "      <td>2</td>\n",
       "      <td>203</td>\n",
       "    </tr>\n",
       "    <tr>\n",
       "      <th>top</th>\n",
       "      <td>2022/08/25 11:04:58 PM MDT</td>\n",
       "      <td>University</td>\n",
       "      <td>Female</td>\n",
       "      <td>38</td>\n",
       "      <td>Academic Performance</td>\n",
       "      <td>School fees</td>\n",
       "      <td>No</td>\n",
       "      <td>Academic performance</td>\n",
       "      <td>Yes</td>\n",
       "      <td>No</td>\n",
       "      <td>Many do not access the digital devices</td>\n",
       "    </tr>\n",
       "    <tr>\n",
       "      <th>freq</th>\n",
       "      <td>1</td>\n",
       "      <td>124</td>\n",
       "      <td>120</td>\n",
       "      <td>12</td>\n",
       "      <td>147</td>\n",
       "      <td>12</td>\n",
       "      <td>132</td>\n",
       "      <td>24</td>\n",
       "      <td>184</td>\n",
       "      <td>142</td>\n",
       "      <td>2</td>\n",
       "    </tr>\n",
       "  </tbody>\n",
       "</table>\n",
       "</div>"
      ],
      "text/plain": [
       "                         Timestamp Education Level     Sex  Age  \\\n",
       "count                          209             209     209  209   \n",
       "unique                         209              22       2   61   \n",
       "top     2022/08/25 11:04:58 PM MDT      University  Female   38   \n",
       "freq                             1             124     120   12   \n",
       "\n",
       "       What single most factor would you consider when selecting an academic institution?  \\\n",
       "count                                                 209                                   \n",
       "unique                                                  5                                   \n",
       "top                                  Academic Performance                                   \n",
       "freq                                                  147                                   \n",
       "\n",
       "       What other factors would you consider?  \\\n",
       "count                                     209   \n",
       "unique                                    146   \n",
       "top                               School fees   \n",
       "freq                                       12   \n",
       "\n",
       "       Would distance from home make you decline attending an academic institution if distance learning programs are not offered if all your preferences are met?  \\\n",
       "count                                                 209                                                                                                           \n",
       "unique                                                  2                                                                                                           \n",
       "top                                                    No                                                                                                           \n",
       "freq                                                  132                                                                                                           \n",
       "\n",
       "       What single most factor would you consider when selecting a high school for yourself or a sibling/friend?  \\\n",
       "count                                                 209                                                          \n",
       "unique                                                102                                                          \n",
       "top                                 Academic performance                                                           \n",
       "freq                                                   24                                                          \n",
       "\n",
       "       Would you consider undertaking distance learning programs?(Studying Online)  \\\n",
       "count                                                 209                            \n",
       "unique                                                  3                            \n",
       "top                                                   Yes                            \n",
       "freq                                                  184                            \n",
       "\n",
       "       Would you consider distance learning programs for someone in  high school?  \\\n",
       "count                                                 209                           \n",
       "unique                                                  2                           \n",
       "top                                                    No                           \n",
       "freq                                                  142                           \n",
       "\n",
       "       If yes, please specify why if no, please specify why too  \n",
       "count                                                 204        \n",
       "unique                                                203        \n",
       "top                Many do not access the digital devices        \n",
       "freq                                                    2        "
      ]
     },
     "execution_count": 4,
     "metadata": {},
     "output_type": "execute_result"
    }
   ],
   "source": [
    "form.describe()"
   ]
  },
  {
   "cell_type": "code",
   "execution_count": 5,
   "id": "aedc1163",
   "metadata": {},
   "outputs": [
    {
     "name": "stdout",
     "output_type": "stream",
     "text": [
      "<class 'pandas.core.frame.DataFrame'>\n",
      "RangeIndex: 209 entries, 0 to 208\n",
      "Data columns (total 11 columns):\n",
      " #   Column                                                                                                                                                      Non-Null Count  Dtype \n",
      "---  ------                                                                                                                                                      --------------  ----- \n",
      " 0   Timestamp                                                                                                                                                   209 non-null    object\n",
      " 1   Education Level                                                                                                                                             209 non-null    object\n",
      " 2   Sex                                                                                                                                                         209 non-null    object\n",
      " 3   Age                                                                                                                                                         209 non-null    object\n",
      " 4   What single most factor would you consider when selecting an academic institution?                                                                          209 non-null    object\n",
      " 5   What other factors would you consider?                                                                                                                      209 non-null    object\n",
      " 6   Would distance from home make you decline attending an academic institution if distance learning programs are not offered if all your preferences are met?  209 non-null    object\n",
      " 7   What single most factor would you consider when selecting a high school for yourself or a sibling/friend?                                                   209 non-null    object\n",
      " 8   Would you consider undertaking distance learning programs?(Studying Online)                                                                                 209 non-null    object\n",
      " 9   Would you consider distance learning programs for someone in  high school?                                                                                  209 non-null    object\n",
      " 10  If yes, please specify why if no, please specify why too                                                                                                    204 non-null    object\n",
      "dtypes: object(11)\n",
      "memory usage: 18.1+ KB\n"
     ]
    }
   ],
   "source": [
    "form.info()"
   ]
  },
  {
   "cell_type": "code",
   "execution_count": 6,
   "id": "6b3e54df",
   "metadata": {},
   "outputs": [],
   "source": [
    "formm=form.drop(['Education Level', 'What other factors would you consider?','Would distance from home make you decline attending an academic institution if distance learning programs are not offered if all your preferences are met?','Would you consider undertaking distance learning programs?(Studying Online)','If yes, please specify why if no, please specify why too'], axis=1)"
   ]
  },
  {
   "cell_type": "code",
   "execution_count": 7,
   "id": "fcd330c7",
   "metadata": {},
   "outputs": [
    {
     "data": {
      "text/html": [
       "<div>\n",
       "<style scoped>\n",
       "    .dataframe tbody tr th:only-of-type {\n",
       "        vertical-align: middle;\n",
       "    }\n",
       "\n",
       "    .dataframe tbody tr th {\n",
       "        vertical-align: top;\n",
       "    }\n",
       "\n",
       "    .dataframe thead th {\n",
       "        text-align: right;\n",
       "    }\n",
       "</style>\n",
       "<table border=\"1\" class=\"dataframe\">\n",
       "  <thead>\n",
       "    <tr style=\"text-align: right;\">\n",
       "      <th></th>\n",
       "      <th>Timestamp</th>\n",
       "      <th>Sex</th>\n",
       "      <th>Age</th>\n",
       "      <th>What single most factor would you consider when selecting an academic institution?</th>\n",
       "      <th>What single most factor would you consider when selecting a high school for yourself or a sibling/friend?</th>\n",
       "      <th>Would you consider distance learning programs for someone in  high school?</th>\n",
       "    </tr>\n",
       "  </thead>\n",
       "  <tbody>\n",
       "    <tr>\n",
       "      <th>0</th>\n",
       "      <td>2022/08/25 11:04:58 PM MDT</td>\n",
       "      <td>Male</td>\n",
       "      <td>19</td>\n",
       "      <td>Academic Performance</td>\n",
       "      <td>Academic performance</td>\n",
       "      <td>No</td>\n",
       "    </tr>\n",
       "    <tr>\n",
       "      <th>1</th>\n",
       "      <td>2022/08/25 11:12:22 PM MDT</td>\n",
       "      <td>Male</td>\n",
       "      <td>24</td>\n",
       "      <td>School Fees(On both termly or yearly basis)</td>\n",
       "      <td>Academic perfomance</td>\n",
       "      <td>Yes</td>\n",
       "    </tr>\n",
       "    <tr>\n",
       "      <th>2</th>\n",
       "      <td>2022/08/25 11:28:00 PM MDT</td>\n",
       "      <td>Male</td>\n",
       "      <td>33</td>\n",
       "      <td>School Fees(On both termly or yearly basis)</td>\n",
       "      <td>Discipline</td>\n",
       "      <td>Yes</td>\n",
       "    </tr>\n",
       "    <tr>\n",
       "      <th>3</th>\n",
       "      <td>2022/08/25 11:39:01 PM MDT</td>\n",
       "      <td>Male</td>\n",
       "      <td>45</td>\n",
       "      <td>Academic Performance</td>\n",
       "      <td>quality</td>\n",
       "      <td>Yes</td>\n",
       "    </tr>\n",
       "    <tr>\n",
       "      <th>4</th>\n",
       "      <td>2022/08/26 12:03:15 AM MDT</td>\n",
       "      <td>Female</td>\n",
       "      <td>22</td>\n",
       "      <td>Location</td>\n",
       "      <td>Academic performance.</td>\n",
       "      <td>No</td>\n",
       "    </tr>\n",
       "  </tbody>\n",
       "</table>\n",
       "</div>"
      ],
      "text/plain": [
       "                    Timestamp     Sex Age  \\\n",
       "0  2022/08/25 11:04:58 PM MDT    Male  19   \n",
       "1  2022/08/25 11:12:22 PM MDT    Male  24   \n",
       "2  2022/08/25 11:28:00 PM MDT    Male  33   \n",
       "3  2022/08/25 11:39:01 PM MDT    Male  45   \n",
       "4  2022/08/26 12:03:15 AM MDT  Female  22   \n",
       "\n",
       "  What single most factor would you consider when selecting an academic institution?  \\\n",
       "0                               Academic Performance                                   \n",
       "1        School Fees(On both termly or yearly basis)                                   \n",
       "2        School Fees(On both termly or yearly basis)                                   \n",
       "3                               Academic Performance                                   \n",
       "4                                           Location                                   \n",
       "\n",
       "  What single most factor would you consider when selecting a high school for yourself or a sibling/friend?  \\\n",
       "0                              Academic performance                                                           \n",
       "1                                Academic perfomance                                                          \n",
       "2                                        Discipline                                                           \n",
       "3                                            quality                                                          \n",
       "4                              Academic performance.                                                          \n",
       "\n",
       "  Would you consider distance learning programs for someone in  high school?  \n",
       "0                                                 No                          \n",
       "1                                                Yes                          \n",
       "2                                                Yes                          \n",
       "3                                                Yes                          \n",
       "4                                                 No                          "
      ]
     },
     "execution_count": 7,
     "metadata": {},
     "output_type": "execute_result"
    }
   ],
   "source": [
    "formm.head()"
   ]
  },
  {
   "cell_type": "code",
   "execution_count": 8,
   "id": "097d668f",
   "metadata": {},
   "outputs": [],
   "source": [
    "formm.drop(['What single most factor would you consider when selecting a high school for yourself or a sibling/friend?'],axis=1, inplace=True)"
   ]
  },
  {
   "cell_type": "code",
   "execution_count": 9,
   "id": "2e5bfddb",
   "metadata": {},
   "outputs": [
    {
     "data": {
      "text/html": [
       "<div>\n",
       "<style scoped>\n",
       "    .dataframe tbody tr th:only-of-type {\n",
       "        vertical-align: middle;\n",
       "    }\n",
       "\n",
       "    .dataframe tbody tr th {\n",
       "        vertical-align: top;\n",
       "    }\n",
       "\n",
       "    .dataframe thead th {\n",
       "        text-align: right;\n",
       "    }\n",
       "</style>\n",
       "<table border=\"1\" class=\"dataframe\">\n",
       "  <thead>\n",
       "    <tr style=\"text-align: right;\">\n",
       "      <th></th>\n",
       "      <th>Timestamp</th>\n",
       "      <th>Sex</th>\n",
       "      <th>Age</th>\n",
       "      <th>What single most factor would you consider when selecting an academic institution?</th>\n",
       "      <th>Would you consider distance learning programs for someone in  high school?</th>\n",
       "    </tr>\n",
       "  </thead>\n",
       "  <tbody>\n",
       "    <tr>\n",
       "      <th>0</th>\n",
       "      <td>2022/08/25 11:04:58 PM MDT</td>\n",
       "      <td>Male</td>\n",
       "      <td>19</td>\n",
       "      <td>Academic Performance</td>\n",
       "      <td>No</td>\n",
       "    </tr>\n",
       "    <tr>\n",
       "      <th>1</th>\n",
       "      <td>2022/08/25 11:12:22 PM MDT</td>\n",
       "      <td>Male</td>\n",
       "      <td>24</td>\n",
       "      <td>School Fees(On both termly or yearly basis)</td>\n",
       "      <td>Yes</td>\n",
       "    </tr>\n",
       "    <tr>\n",
       "      <th>2</th>\n",
       "      <td>2022/08/25 11:28:00 PM MDT</td>\n",
       "      <td>Male</td>\n",
       "      <td>33</td>\n",
       "      <td>School Fees(On both termly or yearly basis)</td>\n",
       "      <td>Yes</td>\n",
       "    </tr>\n",
       "    <tr>\n",
       "      <th>3</th>\n",
       "      <td>2022/08/25 11:39:01 PM MDT</td>\n",
       "      <td>Male</td>\n",
       "      <td>45</td>\n",
       "      <td>Academic Performance</td>\n",
       "      <td>Yes</td>\n",
       "    </tr>\n",
       "    <tr>\n",
       "      <th>4</th>\n",
       "      <td>2022/08/26 12:03:15 AM MDT</td>\n",
       "      <td>Female</td>\n",
       "      <td>22</td>\n",
       "      <td>Location</td>\n",
       "      <td>No</td>\n",
       "    </tr>\n",
       "    <tr>\n",
       "      <th>...</th>\n",
       "      <td>...</td>\n",
       "      <td>...</td>\n",
       "      <td>...</td>\n",
       "      <td>...</td>\n",
       "      <td>...</td>\n",
       "    </tr>\n",
       "    <tr>\n",
       "      <th>204</th>\n",
       "      <td>2022/08/28 6:54:13 AM MDT</td>\n",
       "      <td>Female</td>\n",
       "      <td>Forty</td>\n",
       "      <td>Academic Performance</td>\n",
       "      <td>No</td>\n",
       "    </tr>\n",
       "    <tr>\n",
       "      <th>205</th>\n",
       "      <td>2022/08/28 7:01:28 AM MDT</td>\n",
       "      <td>Male</td>\n",
       "      <td>30</td>\n",
       "      <td>Academic Performance</td>\n",
       "      <td>No</td>\n",
       "    </tr>\n",
       "    <tr>\n",
       "      <th>206</th>\n",
       "      <td>2022/08/28 7:20:49 AM MDT</td>\n",
       "      <td>Male</td>\n",
       "      <td>49</td>\n",
       "      <td>Academic Performance</td>\n",
       "      <td>No</td>\n",
       "    </tr>\n",
       "    <tr>\n",
       "      <th>207</th>\n",
       "      <td>2022/08/28 7:22:51 AM MDT</td>\n",
       "      <td>Female</td>\n",
       "      <td>42</td>\n",
       "      <td>Location</td>\n",
       "      <td>No</td>\n",
       "    </tr>\n",
       "    <tr>\n",
       "      <th>208</th>\n",
       "      <td>2022/08/28 7:47:59 AM MDT</td>\n",
       "      <td>Male</td>\n",
       "      <td>48</td>\n",
       "      <td>Academic Performance</td>\n",
       "      <td>No</td>\n",
       "    </tr>\n",
       "  </tbody>\n",
       "</table>\n",
       "<p>209 rows × 5 columns</p>\n",
       "</div>"
      ],
      "text/plain": [
       "                      Timestamp     Sex     Age  \\\n",
       "0    2022/08/25 11:04:58 PM MDT    Male      19   \n",
       "1    2022/08/25 11:12:22 PM MDT    Male      24   \n",
       "2    2022/08/25 11:28:00 PM MDT    Male      33   \n",
       "3    2022/08/25 11:39:01 PM MDT    Male      45   \n",
       "4    2022/08/26 12:03:15 AM MDT  Female      22   \n",
       "..                          ...     ...     ...   \n",
       "204   2022/08/28 6:54:13 AM MDT  Female  Forty    \n",
       "205   2022/08/28 7:01:28 AM MDT    Male      30   \n",
       "206   2022/08/28 7:20:49 AM MDT    Male      49   \n",
       "207   2022/08/28 7:22:51 AM MDT  Female      42   \n",
       "208   2022/08/28 7:47:59 AM MDT    Male      48   \n",
       "\n",
       "    What single most factor would you consider when selecting an academic institution?  \\\n",
       "0                                 Academic Performance                                   \n",
       "1          School Fees(On both termly or yearly basis)                                   \n",
       "2          School Fees(On both termly or yearly basis)                                   \n",
       "3                                 Academic Performance                                   \n",
       "4                                             Location                                   \n",
       "..                                                 ...                                   \n",
       "204                               Academic Performance                                   \n",
       "205                               Academic Performance                                   \n",
       "206                               Academic Performance                                   \n",
       "207                                           Location                                   \n",
       "208                               Academic Performance                                   \n",
       "\n",
       "    Would you consider distance learning programs for someone in  high school?  \n",
       "0                                                   No                          \n",
       "1                                                  Yes                          \n",
       "2                                                  Yes                          \n",
       "3                                                  Yes                          \n",
       "4                                                   No                          \n",
       "..                                                 ...                          \n",
       "204                                                 No                          \n",
       "205                                                 No                          \n",
       "206                                                 No                          \n",
       "207                                                 No                          \n",
       "208                                                 No                          \n",
       "\n",
       "[209 rows x 5 columns]"
      ]
     },
     "execution_count": 9,
     "metadata": {},
     "output_type": "execute_result"
    }
   ],
   "source": [
    "formm"
   ]
  },
  {
   "cell_type": "code",
   "execution_count": 10,
   "id": "d2ac3cfb",
   "metadata": {},
   "outputs": [],
   "source": [
    "data = formm.drop(formm.columns[[4]],axis = 1)"
   ]
  },
  {
   "cell_type": "code",
   "execution_count": 11,
   "id": "38bc2a88",
   "metadata": {},
   "outputs": [
    {
     "data": {
      "text/html": [
       "<div>\n",
       "<style scoped>\n",
       "    .dataframe tbody tr th:only-of-type {\n",
       "        vertical-align: middle;\n",
       "    }\n",
       "\n",
       "    .dataframe tbody tr th {\n",
       "        vertical-align: top;\n",
       "    }\n",
       "\n",
       "    .dataframe thead th {\n",
       "        text-align: right;\n",
       "    }\n",
       "</style>\n",
       "<table border=\"1\" class=\"dataframe\">\n",
       "  <thead>\n",
       "    <tr style=\"text-align: right;\">\n",
       "      <th></th>\n",
       "      <th>Timestamp</th>\n",
       "      <th>Sex</th>\n",
       "      <th>Age</th>\n",
       "      <th>What single most factor would you consider when selecting an academic institution?</th>\n",
       "    </tr>\n",
       "  </thead>\n",
       "  <tbody>\n",
       "    <tr>\n",
       "      <th>0</th>\n",
       "      <td>2022/08/25 11:04:58 PM MDT</td>\n",
       "      <td>Male</td>\n",
       "      <td>19</td>\n",
       "      <td>Academic Performance</td>\n",
       "    </tr>\n",
       "    <tr>\n",
       "      <th>1</th>\n",
       "      <td>2022/08/25 11:12:22 PM MDT</td>\n",
       "      <td>Male</td>\n",
       "      <td>24</td>\n",
       "      <td>School Fees(On both termly or yearly basis)</td>\n",
       "    </tr>\n",
       "    <tr>\n",
       "      <th>2</th>\n",
       "      <td>2022/08/25 11:28:00 PM MDT</td>\n",
       "      <td>Male</td>\n",
       "      <td>33</td>\n",
       "      <td>School Fees(On both termly or yearly basis)</td>\n",
       "    </tr>\n",
       "    <tr>\n",
       "      <th>3</th>\n",
       "      <td>2022/08/25 11:39:01 PM MDT</td>\n",
       "      <td>Male</td>\n",
       "      <td>45</td>\n",
       "      <td>Academic Performance</td>\n",
       "    </tr>\n",
       "    <tr>\n",
       "      <th>4</th>\n",
       "      <td>2022/08/26 12:03:15 AM MDT</td>\n",
       "      <td>Female</td>\n",
       "      <td>22</td>\n",
       "      <td>Location</td>\n",
       "    </tr>\n",
       "    <tr>\n",
       "      <th>...</th>\n",
       "      <td>...</td>\n",
       "      <td>...</td>\n",
       "      <td>...</td>\n",
       "      <td>...</td>\n",
       "    </tr>\n",
       "    <tr>\n",
       "      <th>204</th>\n",
       "      <td>2022/08/28 6:54:13 AM MDT</td>\n",
       "      <td>Female</td>\n",
       "      <td>Forty</td>\n",
       "      <td>Academic Performance</td>\n",
       "    </tr>\n",
       "    <tr>\n",
       "      <th>205</th>\n",
       "      <td>2022/08/28 7:01:28 AM MDT</td>\n",
       "      <td>Male</td>\n",
       "      <td>30</td>\n",
       "      <td>Academic Performance</td>\n",
       "    </tr>\n",
       "    <tr>\n",
       "      <th>206</th>\n",
       "      <td>2022/08/28 7:20:49 AM MDT</td>\n",
       "      <td>Male</td>\n",
       "      <td>49</td>\n",
       "      <td>Academic Performance</td>\n",
       "    </tr>\n",
       "    <tr>\n",
       "      <th>207</th>\n",
       "      <td>2022/08/28 7:22:51 AM MDT</td>\n",
       "      <td>Female</td>\n",
       "      <td>42</td>\n",
       "      <td>Location</td>\n",
       "    </tr>\n",
       "    <tr>\n",
       "      <th>208</th>\n",
       "      <td>2022/08/28 7:47:59 AM MDT</td>\n",
       "      <td>Male</td>\n",
       "      <td>48</td>\n",
       "      <td>Academic Performance</td>\n",
       "    </tr>\n",
       "  </tbody>\n",
       "</table>\n",
       "<p>209 rows × 4 columns</p>\n",
       "</div>"
      ],
      "text/plain": [
       "                      Timestamp     Sex     Age  \\\n",
       "0    2022/08/25 11:04:58 PM MDT    Male      19   \n",
       "1    2022/08/25 11:12:22 PM MDT    Male      24   \n",
       "2    2022/08/25 11:28:00 PM MDT    Male      33   \n",
       "3    2022/08/25 11:39:01 PM MDT    Male      45   \n",
       "4    2022/08/26 12:03:15 AM MDT  Female      22   \n",
       "..                          ...     ...     ...   \n",
       "204   2022/08/28 6:54:13 AM MDT  Female  Forty    \n",
       "205   2022/08/28 7:01:28 AM MDT    Male      30   \n",
       "206   2022/08/28 7:20:49 AM MDT    Male      49   \n",
       "207   2022/08/28 7:22:51 AM MDT  Female      42   \n",
       "208   2022/08/28 7:47:59 AM MDT    Male      48   \n",
       "\n",
       "    What single most factor would you consider when selecting an academic institution?  \n",
       "0                                 Academic Performance                                  \n",
       "1          School Fees(On both termly or yearly basis)                                  \n",
       "2          School Fees(On both termly or yearly basis)                                  \n",
       "3                                 Academic Performance                                  \n",
       "4                                             Location                                  \n",
       "..                                                 ...                                  \n",
       "204                               Academic Performance                                  \n",
       "205                               Academic Performance                                  \n",
       "206                               Academic Performance                                  \n",
       "207                                           Location                                  \n",
       "208                               Academic Performance                                  \n",
       "\n",
       "[209 rows x 4 columns]"
      ]
     },
     "execution_count": 11,
     "metadata": {},
     "output_type": "execute_result"
    }
   ],
   "source": [
    "data"
   ]
  },
  {
   "cell_type": "code",
   "execution_count": 12,
   "id": "e295be4c",
   "metadata": {},
   "outputs": [
    {
     "data": {
      "text/plain": [
       "0          19\n",
       "1          24\n",
       "2          33\n",
       "3          45\n",
       "4          22\n",
       "        ...  \n",
       "204    Forty \n",
       "205        30\n",
       "206        49\n",
       "207        42\n",
       "208        48\n",
       "Name: Age, Length: 209, dtype: object"
      ]
     },
     "execution_count": 12,
     "metadata": {},
     "output_type": "execute_result"
    }
   ],
   "source": [
    "data.Age"
   ]
  },
  {
   "cell_type": "markdown",
   "id": "78c41040",
   "metadata": {},
   "source": [
    "##convert number words to numbers in age column"
   ]
  },
  {
   "cell_type": "code",
   "execution_count": 13,
   "id": "b21becbb",
   "metadata": {},
   "outputs": [],
   "source": [
    "data.at[33,\"Age\"]=53\n",
    "data.at[45,\"Age\"]=40\n",
    "data.at[46,\"Age\"]=41\n",
    "data.at[49,\"Age\"]=58\n",
    "data.at[58,\"Age\"]=47\n",
    "data.at[83,\"Age\"]=41\n",
    "data.at[109,\"Age\"]=40\n",
    "data.at[115,\"Age\"]=43\n",
    "data.at[118,\"Age\"]=53\n",
    "data.at[125,\"Age\"]=36\n",
    "data.at[129,\"Age\"]=45\n",
    "data.at[136,\"Age\"]=32\n",
    "data.at[139,\"Age\"]=51\n",
    "data.at[144,\"Age\"]=46\n",
    "data.at[154,\"Age\"]=29\n",
    "data.at[162,\"Age\"]=32\n",
    "data.at[164,\"Age\"]=52\n",
    "data.at[170,\"Age\"]=44\n",
    "data.at[202,\"Age\"]=30\n",
    "data.at[204,\"Age\"]=40"
   ]
  },
  {
   "cell_type": "code",
   "execution_count": 14,
   "id": "51982b7b",
   "metadata": {},
   "outputs": [],
   "source": [
    "data['Age'] = pd.to_numeric(data['Age'])"
   ]
  },
  {
   "cell_type": "code",
   "execution_count": 15,
   "id": "4dd769b5",
   "metadata": {},
   "outputs": [
    {
     "data": {
      "text/html": [
       "<div>\n",
       "<style scoped>\n",
       "    .dataframe tbody tr th:only-of-type {\n",
       "        vertical-align: middle;\n",
       "    }\n",
       "\n",
       "    .dataframe tbody tr th {\n",
       "        vertical-align: top;\n",
       "    }\n",
       "\n",
       "    .dataframe thead th {\n",
       "        text-align: right;\n",
       "    }\n",
       "</style>\n",
       "<table border=\"1\" class=\"dataframe\">\n",
       "  <thead>\n",
       "    <tr style=\"text-align: right;\">\n",
       "      <th></th>\n",
       "      <th>Timestamp</th>\n",
       "      <th>Sex</th>\n",
       "      <th>Age</th>\n",
       "      <th>What single most factor would you consider when selecting an academic institution?</th>\n",
       "    </tr>\n",
       "  </thead>\n",
       "  <tbody>\n",
       "    <tr>\n",
       "      <th>0</th>\n",
       "      <td>2022/08/25 11:04:58 PM MDT</td>\n",
       "      <td>Male</td>\n",
       "      <td>19</td>\n",
       "      <td>Academic Performance</td>\n",
       "    </tr>\n",
       "    <tr>\n",
       "      <th>1</th>\n",
       "      <td>2022/08/25 11:12:22 PM MDT</td>\n",
       "      <td>Male</td>\n",
       "      <td>24</td>\n",
       "      <td>School Fees(On both termly or yearly basis)</td>\n",
       "    </tr>\n",
       "    <tr>\n",
       "      <th>2</th>\n",
       "      <td>2022/08/25 11:28:00 PM MDT</td>\n",
       "      <td>Male</td>\n",
       "      <td>33</td>\n",
       "      <td>School Fees(On both termly or yearly basis)</td>\n",
       "    </tr>\n",
       "    <tr>\n",
       "      <th>3</th>\n",
       "      <td>2022/08/25 11:39:01 PM MDT</td>\n",
       "      <td>Male</td>\n",
       "      <td>45</td>\n",
       "      <td>Academic Performance</td>\n",
       "    </tr>\n",
       "    <tr>\n",
       "      <th>4</th>\n",
       "      <td>2022/08/26 12:03:15 AM MDT</td>\n",
       "      <td>Female</td>\n",
       "      <td>22</td>\n",
       "      <td>Location</td>\n",
       "    </tr>\n",
       "    <tr>\n",
       "      <th>...</th>\n",
       "      <td>...</td>\n",
       "      <td>...</td>\n",
       "      <td>...</td>\n",
       "      <td>...</td>\n",
       "    </tr>\n",
       "    <tr>\n",
       "      <th>204</th>\n",
       "      <td>2022/08/28 6:54:13 AM MDT</td>\n",
       "      <td>Female</td>\n",
       "      <td>40</td>\n",
       "      <td>Academic Performance</td>\n",
       "    </tr>\n",
       "    <tr>\n",
       "      <th>205</th>\n",
       "      <td>2022/08/28 7:01:28 AM MDT</td>\n",
       "      <td>Male</td>\n",
       "      <td>30</td>\n",
       "      <td>Academic Performance</td>\n",
       "    </tr>\n",
       "    <tr>\n",
       "      <th>206</th>\n",
       "      <td>2022/08/28 7:20:49 AM MDT</td>\n",
       "      <td>Male</td>\n",
       "      <td>49</td>\n",
       "      <td>Academic Performance</td>\n",
       "    </tr>\n",
       "    <tr>\n",
       "      <th>207</th>\n",
       "      <td>2022/08/28 7:22:51 AM MDT</td>\n",
       "      <td>Female</td>\n",
       "      <td>42</td>\n",
       "      <td>Location</td>\n",
       "    </tr>\n",
       "    <tr>\n",
       "      <th>208</th>\n",
       "      <td>2022/08/28 7:47:59 AM MDT</td>\n",
       "      <td>Male</td>\n",
       "      <td>48</td>\n",
       "      <td>Academic Performance</td>\n",
       "    </tr>\n",
       "  </tbody>\n",
       "</table>\n",
       "<p>209 rows × 4 columns</p>\n",
       "</div>"
      ],
      "text/plain": [
       "                      Timestamp     Sex  Age  \\\n",
       "0    2022/08/25 11:04:58 PM MDT    Male   19   \n",
       "1    2022/08/25 11:12:22 PM MDT    Male   24   \n",
       "2    2022/08/25 11:28:00 PM MDT    Male   33   \n",
       "3    2022/08/25 11:39:01 PM MDT    Male   45   \n",
       "4    2022/08/26 12:03:15 AM MDT  Female   22   \n",
       "..                          ...     ...  ...   \n",
       "204   2022/08/28 6:54:13 AM MDT  Female   40   \n",
       "205   2022/08/28 7:01:28 AM MDT    Male   30   \n",
       "206   2022/08/28 7:20:49 AM MDT    Male   49   \n",
       "207   2022/08/28 7:22:51 AM MDT  Female   42   \n",
       "208   2022/08/28 7:47:59 AM MDT    Male   48   \n",
       "\n",
       "    What single most factor would you consider when selecting an academic institution?  \n",
       "0                                 Academic Performance                                  \n",
       "1          School Fees(On both termly or yearly basis)                                  \n",
       "2          School Fees(On both termly or yearly basis)                                  \n",
       "3                                 Academic Performance                                  \n",
       "4                                             Location                                  \n",
       "..                                                 ...                                  \n",
       "204                               Academic Performance                                  \n",
       "205                               Academic Performance                                  \n",
       "206                               Academic Performance                                  \n",
       "207                                           Location                                  \n",
       "208                               Academic Performance                                  \n",
       "\n",
       "[209 rows x 4 columns]"
      ]
     },
     "execution_count": 15,
     "metadata": {},
     "output_type": "execute_result"
    }
   ],
   "source": [
    "data"
   ]
  },
  {
   "cell_type": "code",
   "execution_count": 66,
   "id": "f2829230",
   "metadata": {},
   "outputs": [
    {
     "data": {
      "text/plain": [
       "Index(['Timestamp', 'Sex', 'Age',\n",
       "       'What single most factor would you consider when selecting an academic institution?',\n",
       "       'Ratings'],\n",
       "      dtype='object')"
      ]
     },
     "execution_count": 66,
     "metadata": {},
     "output_type": "execute_result"
    }
   ],
   "source": [
    "data.columns"
   ]
  },
  {
   "cell_type": "markdown",
   "id": "a5009df1",
   "metadata": {},
   "source": [
    "##use boxplot to identify outliers in age column"
   ]
  },
  {
   "cell_type": "code",
   "execution_count": 16,
   "id": "b5f45b1c",
   "metadata": {},
   "outputs": [
    {
     "data": {
      "text/plain": [
       "<AxesSubplot:ylabel='Age'>"
      ]
     },
     "execution_count": 16,
     "metadata": {},
     "output_type": "execute_result"
    },
    {
     "data": {
      "image/png": "[encoded data removed]",
      "text/plain": [
       "<Figure size 432x288 with 1 Axes>"
      ]
     },
     "metadata": {
      "needs_background": "light"
     },
     "output_type": "display_data"
    }
   ],
   "source": [
    "sns.boxplot(y=\"Age\",data=data)"
   ]
  },
  {
   "cell_type": "code",
   "execution_count": 17,
   "id": "f7d3c37f",
   "metadata": {},
   "outputs": [
    {
     "name": "stdout",
     "output_type": "stream",
     "text": [
      "(array([  0, 190], dtype=int64),)\n"
     ]
    }
   ],
   "source": [
    "print(np.where(data['Age']<20))"
   ]
  },
  {
   "cell_type": "markdown",
   "id": "721d4fc9",
   "metadata": {},
   "source": [
    "##drop outlier from dataframe"
   ]
  },
  {
   "cell_type": "code",
   "execution_count": 18,
   "id": "13e9082b",
   "metadata": {},
   "outputs": [],
   "source": [
    "formmx = data.drop(formm.index[190])"
   ]
  },
  {
   "cell_type": "code",
   "execution_count": 19,
   "id": "e0c95ece",
   "metadata": {},
   "outputs": [
    {
     "data": {
      "text/html": [
       "<div>\n",
       "<style scoped>\n",
       "    .dataframe tbody tr th:only-of-type {\n",
       "        vertical-align: middle;\n",
       "    }\n",
       "\n",
       "    .dataframe tbody tr th {\n",
       "        vertical-align: top;\n",
       "    }\n",
       "\n",
       "    .dataframe thead th {\n",
       "        text-align: right;\n",
       "    }\n",
       "</style>\n",
       "<table border=\"1\" class=\"dataframe\">\n",
       "  <thead>\n",
       "    <tr style=\"text-align: right;\">\n",
       "      <th></th>\n",
       "      <th>Timestamp</th>\n",
       "      <th>Sex</th>\n",
       "      <th>Age</th>\n",
       "      <th>What single most factor would you consider when selecting an academic institution?</th>\n",
       "    </tr>\n",
       "  </thead>\n",
       "  <tbody>\n",
       "    <tr>\n",
       "      <th>0</th>\n",
       "      <td>2022/08/25 11:04:58 PM MDT</td>\n",
       "      <td>Male</td>\n",
       "      <td>19</td>\n",
       "      <td>Academic Performance</td>\n",
       "    </tr>\n",
       "    <tr>\n",
       "      <th>1</th>\n",
       "      <td>2022/08/25 11:12:22 PM MDT</td>\n",
       "      <td>Male</td>\n",
       "      <td>24</td>\n",
       "      <td>School Fees(On both termly or yearly basis)</td>\n",
       "    </tr>\n",
       "    <tr>\n",
       "      <th>2</th>\n",
       "      <td>2022/08/25 11:28:00 PM MDT</td>\n",
       "      <td>Male</td>\n",
       "      <td>33</td>\n",
       "      <td>School Fees(On both termly or yearly basis)</td>\n",
       "    </tr>\n",
       "    <tr>\n",
       "      <th>3</th>\n",
       "      <td>2022/08/25 11:39:01 PM MDT</td>\n",
       "      <td>Male</td>\n",
       "      <td>45</td>\n",
       "      <td>Academic Performance</td>\n",
       "    </tr>\n",
       "    <tr>\n",
       "      <th>4</th>\n",
       "      <td>2022/08/26 12:03:15 AM MDT</td>\n",
       "      <td>Female</td>\n",
       "      <td>22</td>\n",
       "      <td>Location</td>\n",
       "    </tr>\n",
       "    <tr>\n",
       "      <th>...</th>\n",
       "      <td>...</td>\n",
       "      <td>...</td>\n",
       "      <td>...</td>\n",
       "      <td>...</td>\n",
       "    </tr>\n",
       "    <tr>\n",
       "      <th>204</th>\n",
       "      <td>2022/08/28 6:54:13 AM MDT</td>\n",
       "      <td>Female</td>\n",
       "      <td>40</td>\n",
       "      <td>Academic Performance</td>\n",
       "    </tr>\n",
       "    <tr>\n",
       "      <th>205</th>\n",
       "      <td>2022/08/28 7:01:28 AM MDT</td>\n",
       "      <td>Male</td>\n",
       "      <td>30</td>\n",
       "      <td>Academic Performance</td>\n",
       "    </tr>\n",
       "    <tr>\n",
       "      <th>206</th>\n",
       "      <td>2022/08/28 7:20:49 AM MDT</td>\n",
       "      <td>Male</td>\n",
       "      <td>49</td>\n",
       "      <td>Academic Performance</td>\n",
       "    </tr>\n",
       "    <tr>\n",
       "      <th>207</th>\n",
       "      <td>2022/08/28 7:22:51 AM MDT</td>\n",
       "      <td>Female</td>\n",
       "      <td>42</td>\n",
       "      <td>Location</td>\n",
       "    </tr>\n",
       "    <tr>\n",
       "      <th>208</th>\n",
       "      <td>2022/08/28 7:47:59 AM MDT</td>\n",
       "      <td>Male</td>\n",
       "      <td>48</td>\n",
       "      <td>Academic Performance</td>\n",
       "    </tr>\n",
       "  </tbody>\n",
       "</table>\n",
       "<p>208 rows × 4 columns</p>\n",
       "</div>"
      ],
      "text/plain": [
       "                      Timestamp     Sex  Age  \\\n",
       "0    2022/08/25 11:04:58 PM MDT    Male   19   \n",
       "1    2022/08/25 11:12:22 PM MDT    Male   24   \n",
       "2    2022/08/25 11:28:00 PM MDT    Male   33   \n",
       "3    2022/08/25 11:39:01 PM MDT    Male   45   \n",
       "4    2022/08/26 12:03:15 AM MDT  Female   22   \n",
       "..                          ...     ...  ...   \n",
       "204   2022/08/28 6:54:13 AM MDT  Female   40   \n",
       "205   2022/08/28 7:01:28 AM MDT    Male   30   \n",
       "206   2022/08/28 7:20:49 AM MDT    Male   49   \n",
       "207   2022/08/28 7:22:51 AM MDT  Female   42   \n",
       "208   2022/08/28 7:47:59 AM MDT    Male   48   \n",
       "\n",
       "    What single most factor would you consider when selecting an academic institution?  \n",
       "0                                 Academic Performance                                  \n",
       "1          School Fees(On both termly or yearly basis)                                  \n",
       "2          School Fees(On both termly or yearly basis)                                  \n",
       "3                                 Academic Performance                                  \n",
       "4                                             Location                                  \n",
       "..                                                 ...                                  \n",
       "204                               Academic Performance                                  \n",
       "205                               Academic Performance                                  \n",
       "206                               Academic Performance                                  \n",
       "207                                           Location                                  \n",
       "208                               Academic Performance                                  \n",
       "\n",
       "[208 rows x 4 columns]"
      ]
     },
     "execution_count": 19,
     "metadata": {},
     "output_type": "execute_result"
    }
   ],
   "source": [
    "formmx"
   ]
  },
  {
   "cell_type": "markdown",
   "id": "faf6283e",
   "metadata": {},
   "source": [
    "##find ratings"
   ]
  },
  {
   "cell_type": "code",
   "execution_count": 20,
   "id": "31287258",
   "metadata": {},
   "outputs": [
    {
     "data": {
      "text/plain": [
       "Academic Performance                                            7.067308\n",
       "School Fees(On both termly or yearly basis)                     1.442308\n",
       "Distance from Social Amenities(Hospitals,Transport Services)    0.721154\n",
       "Location                                                        0.384615\n",
       "Sports and other Co-curricular Activities                       0.384615\n",
       "Name: What single most factor would you consider when selecting an academic institution?, dtype: float64"
      ]
     },
     "execution_count": 20,
     "metadata": {},
     "output_type": "execute_result"
    }
   ],
   "source": [
    "datax=formmx['What single most factor would you consider when selecting an academic institution?'].value_counts(normalize=True)*10\n",
    "datax.head()"
   ]
  },
  {
   "cell_type": "markdown",
   "id": "dadcfaa6",
   "metadata": {},
   "source": [
    "##put ratings in a dataframe"
   ]
  },
  {
   "cell_type": "code",
   "execution_count": 21,
   "id": "bd49eacd",
   "metadata": {},
   "outputs": [],
   "source": [
    "datax.to_csv(\"ratings.csv\")"
   ]
  },
  {
   "cell_type": "markdown",
   "id": "e22fb6c4",
   "metadata": {},
   "source": [
    "##find value count of ratings and place in a dataframe"
   ]
  },
  {
   "cell_type": "code",
   "execution_count": 22,
   "id": "36727cc6",
   "metadata": {},
   "outputs": [
    {
     "data": {
      "text/plain": [
       "Academic Performance                                            147\n",
       "School Fees(On both termly or yearly basis)                      30\n",
       "Distance from Social Amenities(Hospitals,Transport Services)     15\n",
       "Location                                                          8\n",
       "Sports and other Co-curricular Activities                         8\n",
       "Name: What single most factor would you consider when selecting an academic institution?, dtype: int64"
      ]
     },
     "execution_count": 22,
     "metadata": {},
     "output_type": "execute_result"
    }
   ],
   "source": [
    "datar=formmx['What single most factor would you consider when selecting an academic institution?'].value_counts()\n",
    "datar.head()"
   ]
  },
  {
   "cell_type": "code",
   "execution_count": 23,
   "id": "e372a569",
   "metadata": {},
   "outputs": [],
   "source": [
    "datar.to_csv(\"num of ratings.csv\")"
   ]
  },
  {
   "cell_type": "code",
   "execution_count": 24,
   "id": "1cceb118",
   "metadata": {},
   "outputs": [
    {
     "data": {
      "text/html": [
       "<div>\n",
       "<style scoped>\n",
       "    .dataframe tbody tr th:only-of-type {\n",
       "        vertical-align: middle;\n",
       "    }\n",
       "\n",
       "    .dataframe tbody tr th {\n",
       "        vertical-align: top;\n",
       "    }\n",
       "\n",
       "    .dataframe thead th {\n",
       "        text-align: right;\n",
       "    }\n",
       "</style>\n",
       "<table border=\"1\" class=\"dataframe\">\n",
       "  <thead>\n",
       "    <tr style=\"text-align: right;\">\n",
       "      <th></th>\n",
       "      <th>Unnamed: 0</th>\n",
       "      <th>What single most factor would you consider when selecting an academic institution?</th>\n",
       "    </tr>\n",
       "  </thead>\n",
       "  <tbody>\n",
       "    <tr>\n",
       "      <th>0</th>\n",
       "      <td>Academic Performance</td>\n",
       "      <td>7.067308</td>\n",
       "    </tr>\n",
       "    <tr>\n",
       "      <th>1</th>\n",
       "      <td>School Fees(On both termly or yearly basis)</td>\n",
       "      <td>1.442308</td>\n",
       "    </tr>\n",
       "    <tr>\n",
       "      <th>2</th>\n",
       "      <td>Distance from Social Amenities(Hospitals,Trans...</td>\n",
       "      <td>0.721154</td>\n",
       "    </tr>\n",
       "    <tr>\n",
       "      <th>3</th>\n",
       "      <td>Location</td>\n",
       "      <td>0.384615</td>\n",
       "    </tr>\n",
       "    <tr>\n",
       "      <th>4</th>\n",
       "      <td>Sports and other Co-curricular Activities</td>\n",
       "      <td>0.384615</td>\n",
       "    </tr>\n",
       "  </tbody>\n",
       "</table>\n",
       "</div>"
      ],
      "text/plain": [
       "                                          Unnamed: 0  \\\n",
       "0                               Academic Performance   \n",
       "1        School Fees(On both termly or yearly basis)   \n",
       "2  Distance from Social Amenities(Hospitals,Trans...   \n",
       "3                                           Location   \n",
       "4          Sports and other Co-curricular Activities   \n",
       "\n",
       "   What single most factor would you consider when selecting an academic institution?  \n",
       "0                                           7.067308                                   \n",
       "1                                           1.442308                                   \n",
       "2                                           0.721154                                   \n",
       "3                                           0.384615                                   \n",
       "4                                           0.384615                                   "
      ]
     },
     "execution_count": 24,
     "metadata": {},
     "output_type": "execute_result"
    }
   ],
   "source": [
    "rate=pd.read_csv(\"ratings.csv\")\n",
    "rate.head()"
   ]
  },
  {
   "cell_type": "code",
   "execution_count": 25,
   "id": "ef33a13b",
   "metadata": {},
   "outputs": [
    {
     "data": {
      "text/plain": [
       "Index(['Unnamed: 0', 'What single most factor would you consider when selecting an academic institution?'], dtype='object')"
      ]
     },
     "execution_count": 25,
     "metadata": {},
     "output_type": "execute_result"
    }
   ],
   "source": [
    "rate.columns"
   ]
  },
  {
   "cell_type": "code",
   "execution_count": 26,
   "id": "77b041d6",
   "metadata": {},
   "outputs": [
    {
     "name": "stdout",
     "output_type": "stream",
     "text": [
      "  What single most factor would you consider when selecting an academic institution?  \\\n",
      "0                               Academic Performance                                   \n",
      "1        School Fees(On both termly or yearly basis)                                   \n",
      "2  Distance from Social Amenities(Hospitals,Trans...                                   \n",
      "3                                           Location                                   \n",
      "4          Sports and other Co-curricular Activities                                   \n",
      "\n",
      "    Ratings  \n",
      "0  7.067308  \n",
      "1  1.442308  \n",
      "2  0.721154  \n",
      "3  0.384615  \n",
      "4  0.384615  \n"
     ]
    }
   ],
   "source": [
    "rate.columns = [\"What single most factor would you consider when selecting an academic institution?\", \"Ratings\"]\n",
    "print(rate.head())"
   ]
  },
  {
   "cell_type": "code",
   "execution_count": 27,
   "id": "c8a51f76",
   "metadata": {},
   "outputs": [
    {
     "data": {
      "text/html": [
       "<div>\n",
       "<style scoped>\n",
       "    .dataframe tbody tr th:only-of-type {\n",
       "        vertical-align: middle;\n",
       "    }\n",
       "\n",
       "    .dataframe tbody tr th {\n",
       "        vertical-align: top;\n",
       "    }\n",
       "\n",
       "    .dataframe thead th {\n",
       "        text-align: right;\n",
       "    }\n",
       "</style>\n",
       "<table border=\"1\" class=\"dataframe\">\n",
       "  <thead>\n",
       "    <tr style=\"text-align: right;\">\n",
       "      <th></th>\n",
       "      <th>What single most factor would you consider when selecting an academic institution?</th>\n",
       "      <th>Ratings</th>\n",
       "    </tr>\n",
       "  </thead>\n",
       "  <tbody>\n",
       "    <tr>\n",
       "      <th>0</th>\n",
       "      <td>Academic Performance</td>\n",
       "      <td>7.067308</td>\n",
       "    </tr>\n",
       "    <tr>\n",
       "      <th>1</th>\n",
       "      <td>School Fees(On both termly or yearly basis)</td>\n",
       "      <td>1.442308</td>\n",
       "    </tr>\n",
       "    <tr>\n",
       "      <th>2</th>\n",
       "      <td>Distance from Social Amenities(Hospitals,Trans...</td>\n",
       "      <td>0.721154</td>\n",
       "    </tr>\n",
       "    <tr>\n",
       "      <th>3</th>\n",
       "      <td>Location</td>\n",
       "      <td>0.384615</td>\n",
       "    </tr>\n",
       "    <tr>\n",
       "      <th>4</th>\n",
       "      <td>Sports and other Co-curricular Activities</td>\n",
       "      <td>0.384615</td>\n",
       "    </tr>\n",
       "  </tbody>\n",
       "</table>\n",
       "</div>"
      ],
      "text/plain": [
       "  What single most factor would you consider when selecting an academic institution?  \\\n",
       "0                               Academic Performance                                   \n",
       "1        School Fees(On both termly or yearly basis)                                   \n",
       "2  Distance from Social Amenities(Hospitals,Trans...                                   \n",
       "3                                           Location                                   \n",
       "4          Sports and other Co-curricular Activities                                   \n",
       "\n",
       "    Ratings  \n",
       "0  7.067308  \n",
       "1  1.442308  \n",
       "2  0.721154  \n",
       "3  0.384615  \n",
       "4  0.384615  "
      ]
     },
     "execution_count": 27,
     "metadata": {},
     "output_type": "execute_result"
    }
   ],
   "source": [
    "rate"
   ]
  },
  {
   "cell_type": "markdown",
   "id": "1cfb1395",
   "metadata": {},
   "source": [
    "##join filtered dataframe and ratings dataframes"
   ]
  },
  {
   "cell_type": "code",
   "execution_count": 28,
   "id": "193c0a10",
   "metadata": {},
   "outputs": [
    {
     "name": "stdout",
     "output_type": "stream",
     "text": [
      "                    Timestamp     Sex  Age  \\\n",
      "0  2022/08/25 11:04:58 PM MDT    Male   19   \n",
      "1  2022/08/25 11:39:01 PM MDT    Male   45   \n",
      "2  2022/08/26 12:14:14 AM MDT  Female   56   \n",
      "3   2022/08/26 1:07:16 AM MDT    Male   23   \n",
      "4   2022/08/26 1:41:18 AM MDT    Male   25   \n",
      "\n",
      "  What single most factor would you consider when selecting an academic institution?  \\\n",
      "0                               Academic Performance                                   \n",
      "1                               Academic Performance                                   \n",
      "2                               Academic Performance                                   \n",
      "3                               Academic Performance                                   \n",
      "4                               Academic Performance                                   \n",
      "\n",
      "    Ratings  \n",
      "0  7.067308  \n",
      "1  7.067308  \n",
      "2  7.067308  \n",
      "3  7.067308  \n",
      "4  7.067308  \n"
     ]
    }
   ],
   "source": [
    "data = pd.merge(formmx, rate, on=[\"What single most factor would you consider when selecting an academic institution?\", \"What single most factor would you consider when selecting an academic institution?\"])\n",
    "print(data.head())\n"
   ]
  },
  {
   "cell_type": "code",
   "execution_count": 29,
   "id": "d13cb07c",
   "metadata": {},
   "outputs": [
    {
     "data": {
      "text/html": [
       "<div>\n",
       "<style scoped>\n",
       "    .dataframe tbody tr th:only-of-type {\n",
       "        vertical-align: middle;\n",
       "    }\n",
       "\n",
       "    .dataframe tbody tr th {\n",
       "        vertical-align: top;\n",
       "    }\n",
       "\n",
       "    .dataframe thead th {\n",
       "        text-align: right;\n",
       "    }\n",
       "</style>\n",
       "<table border=\"1\" class=\"dataframe\">\n",
       "  <thead>\n",
       "    <tr style=\"text-align: right;\">\n",
       "      <th></th>\n",
       "      <th>Timestamp</th>\n",
       "      <th>Sex</th>\n",
       "      <th>Age</th>\n",
       "      <th>What single most factor would you consider when selecting an academic institution?</th>\n",
       "      <th>Ratings</th>\n",
       "    </tr>\n",
       "  </thead>\n",
       "  <tbody>\n",
       "    <tr>\n",
       "      <th>0</th>\n",
       "      <td>2022/08/25 11:04:58 PM MDT</td>\n",
       "      <td>Male</td>\n",
       "      <td>19</td>\n",
       "      <td>Academic Performance</td>\n",
       "      <td>7.067308</td>\n",
       "    </tr>\n",
       "    <tr>\n",
       "      <th>1</th>\n",
       "      <td>2022/08/25 11:39:01 PM MDT</td>\n",
       "      <td>Male</td>\n",
       "      <td>45</td>\n",
       "      <td>Academic Performance</td>\n",
       "      <td>7.067308</td>\n",
       "    </tr>\n",
       "    <tr>\n",
       "      <th>2</th>\n",
       "      <td>2022/08/26 12:14:14 AM MDT</td>\n",
       "      <td>Female</td>\n",
       "      <td>56</td>\n",
       "      <td>Academic Performance</td>\n",
       "      <td>7.067308</td>\n",
       "    </tr>\n",
       "    <tr>\n",
       "      <th>3</th>\n",
       "      <td>2022/08/26 1:07:16 AM MDT</td>\n",
       "      <td>Male</td>\n",
       "      <td>23</td>\n",
       "      <td>Academic Performance</td>\n",
       "      <td>7.067308</td>\n",
       "    </tr>\n",
       "    <tr>\n",
       "      <th>4</th>\n",
       "      <td>2022/08/26 1:41:18 AM MDT</td>\n",
       "      <td>Male</td>\n",
       "      <td>25</td>\n",
       "      <td>Academic Performance</td>\n",
       "      <td>7.067308</td>\n",
       "    </tr>\n",
       "    <tr>\n",
       "      <th>5</th>\n",
       "      <td>2022/08/26 2:36:44 AM MDT</td>\n",
       "      <td>Female</td>\n",
       "      <td>30</td>\n",
       "      <td>Academic Performance</td>\n",
       "      <td>7.067308</td>\n",
       "    </tr>\n",
       "    <tr>\n",
       "      <th>6</th>\n",
       "      <td>2022/08/26 4:26:43 AM MDT</td>\n",
       "      <td>Male</td>\n",
       "      <td>22</td>\n",
       "      <td>Academic Performance</td>\n",
       "      <td>7.067308</td>\n",
       "    </tr>\n",
       "    <tr>\n",
       "      <th>7</th>\n",
       "      <td>2022/08/26 5:47:51 AM MDT</td>\n",
       "      <td>Male</td>\n",
       "      <td>23</td>\n",
       "      <td>Academic Performance</td>\n",
       "      <td>7.067308</td>\n",
       "    </tr>\n",
       "    <tr>\n",
       "      <th>8</th>\n",
       "      <td>2022/08/26 8:33:34 AM MDT</td>\n",
       "      <td>Male</td>\n",
       "      <td>23</td>\n",
       "      <td>Academic Performance</td>\n",
       "      <td>7.067308</td>\n",
       "    </tr>\n",
       "    <tr>\n",
       "      <th>9</th>\n",
       "      <td>2022/08/26 12:08:38 PM MDT</td>\n",
       "      <td>Male</td>\n",
       "      <td>22</td>\n",
       "      <td>Academic Performance</td>\n",
       "      <td>7.067308</td>\n",
       "    </tr>\n",
       "    <tr>\n",
       "      <th>10</th>\n",
       "      <td>2022/08/27 4:54:53 AM MDT</td>\n",
       "      <td>Female</td>\n",
       "      <td>20</td>\n",
       "      <td>Academic Performance</td>\n",
       "      <td>7.067308</td>\n",
       "    </tr>\n",
       "    <tr>\n",
       "      <th>11</th>\n",
       "      <td>2022/08/27 5:11:38 AM MDT</td>\n",
       "      <td>Male</td>\n",
       "      <td>49</td>\n",
       "      <td>Academic Performance</td>\n",
       "      <td>7.067308</td>\n",
       "    </tr>\n",
       "    <tr>\n",
       "      <th>12</th>\n",
       "      <td>2022/08/27 5:13:20 AM MDT</td>\n",
       "      <td>Female</td>\n",
       "      <td>52</td>\n",
       "      <td>Academic Performance</td>\n",
       "      <td>7.067308</td>\n",
       "    </tr>\n",
       "    <tr>\n",
       "      <th>13</th>\n",
       "      <td>2022/08/27 5:16:51 AM MDT</td>\n",
       "      <td>Female</td>\n",
       "      <td>54</td>\n",
       "      <td>Academic Performance</td>\n",
       "      <td>7.067308</td>\n",
       "    </tr>\n",
       "    <tr>\n",
       "      <th>14</th>\n",
       "      <td>2022/08/27 5:19:47 AM MDT</td>\n",
       "      <td>Male</td>\n",
       "      <td>48</td>\n",
       "      <td>Academic Performance</td>\n",
       "      <td>7.067308</td>\n",
       "    </tr>\n",
       "    <tr>\n",
       "      <th>15</th>\n",
       "      <td>2022/08/27 5:21:56 AM MDT</td>\n",
       "      <td>Female</td>\n",
       "      <td>35</td>\n",
       "      <td>Academic Performance</td>\n",
       "      <td>7.067308</td>\n",
       "    </tr>\n",
       "    <tr>\n",
       "      <th>16</th>\n",
       "      <td>2022/08/27 5:22:08 AM MDT</td>\n",
       "      <td>Male</td>\n",
       "      <td>38</td>\n",
       "      <td>Academic Performance</td>\n",
       "      <td>7.067308</td>\n",
       "    </tr>\n",
       "    <tr>\n",
       "      <th>17</th>\n",
       "      <td>2022/08/27 5:23:28 AM MDT</td>\n",
       "      <td>Male</td>\n",
       "      <td>26</td>\n",
       "      <td>Academic Performance</td>\n",
       "      <td>7.067308</td>\n",
       "    </tr>\n",
       "    <tr>\n",
       "      <th>18</th>\n",
       "      <td>2022/08/27 5:27:01 AM MDT</td>\n",
       "      <td>Male</td>\n",
       "      <td>45</td>\n",
       "      <td>Academic Performance</td>\n",
       "      <td>7.067308</td>\n",
       "    </tr>\n",
       "    <tr>\n",
       "      <th>19</th>\n",
       "      <td>2022/08/27 5:27:14 AM MDT</td>\n",
       "      <td>Male</td>\n",
       "      <td>26</td>\n",
       "      <td>Academic Performance</td>\n",
       "      <td>7.067308</td>\n",
       "    </tr>\n",
       "  </tbody>\n",
       "</table>\n",
       "</div>"
      ],
      "text/plain": [
       "                     Timestamp     Sex  Age  \\\n",
       "0   2022/08/25 11:04:58 PM MDT    Male   19   \n",
       "1   2022/08/25 11:39:01 PM MDT    Male   45   \n",
       "2   2022/08/26 12:14:14 AM MDT  Female   56   \n",
       "3    2022/08/26 1:07:16 AM MDT    Male   23   \n",
       "4    2022/08/26 1:41:18 AM MDT    Male   25   \n",
       "5    2022/08/26 2:36:44 AM MDT  Female   30   \n",
       "6    2022/08/26 4:26:43 AM MDT    Male   22   \n",
       "7    2022/08/26 5:47:51 AM MDT    Male   23   \n",
       "8    2022/08/26 8:33:34 AM MDT    Male   23   \n",
       "9   2022/08/26 12:08:38 PM MDT    Male   22   \n",
       "10   2022/08/27 4:54:53 AM MDT  Female   20   \n",
       "11   2022/08/27 5:11:38 AM MDT    Male   49   \n",
       "12   2022/08/27 5:13:20 AM MDT  Female   52   \n",
       "13   2022/08/27 5:16:51 AM MDT  Female   54   \n",
       "14   2022/08/27 5:19:47 AM MDT    Male   48   \n",
       "15   2022/08/27 5:21:56 AM MDT  Female   35   \n",
       "16   2022/08/27 5:22:08 AM MDT    Male   38   \n",
       "17   2022/08/27 5:23:28 AM MDT    Male   26   \n",
       "18   2022/08/27 5:27:01 AM MDT    Male   45   \n",
       "19   2022/08/27 5:27:14 AM MDT    Male   26   \n",
       "\n",
       "   What single most factor would you consider when selecting an academic institution?  \\\n",
       "0                                Academic Performance                                   \n",
       "1                                Academic Performance                                   \n",
       "2                                Academic Performance                                   \n",
       "3                                Academic Performance                                   \n",
       "4                                Academic Performance                                   \n",
       "5                                Academic Performance                                   \n",
       "6                                Academic Performance                                   \n",
       "7                                Academic Performance                                   \n",
       "8                                Academic Performance                                   \n",
       "9                                Academic Performance                                   \n",
       "10                               Academic Performance                                   \n",
       "11                               Academic Performance                                   \n",
       "12                               Academic Performance                                   \n",
       "13                               Academic Performance                                   \n",
       "14                               Academic Performance                                   \n",
       "15                               Academic Performance                                   \n",
       "16                               Academic Performance                                   \n",
       "17                               Academic Performance                                   \n",
       "18                               Academic Performance                                   \n",
       "19                               Academic Performance                                   \n",
       "\n",
       "     Ratings  \n",
       "0   7.067308  \n",
       "1   7.067308  \n",
       "2   7.067308  \n",
       "3   7.067308  \n",
       "4   7.067308  \n",
       "5   7.067308  \n",
       "6   7.067308  \n",
       "7   7.067308  \n",
       "8   7.067308  \n",
       "9   7.067308  \n",
       "10  7.067308  \n",
       "11  7.067308  \n",
       "12  7.067308  \n",
       "13  7.067308  \n",
       "14  7.067308  \n",
       "15  7.067308  \n",
       "16  7.067308  \n",
       "17  7.067308  \n",
       "18  7.067308  \n",
       "19  7.067308  "
      ]
     },
     "execution_count": 29,
     "metadata": {},
     "output_type": "execute_result"
    }
   ],
   "source": [
    "data.head(20)"
   ]
  },
  {
   "cell_type": "code",
   "execution_count": 30,
   "id": "8701acfa",
   "metadata": {},
   "outputs": [],
   "source": [
    "data.to_csv('data.csv')"
   ]
  },
  {
   "cell_type": "code",
   "execution_count": 31,
   "id": "ac0878de",
   "metadata": {},
   "outputs": [
    {
     "data": {
      "text/plain": [
       "(208, 5)"
      ]
     },
     "execution_count": 31,
     "metadata": {},
     "output_type": "execute_result"
    }
   ],
   "source": [
    "data.shape"
   ]
  },
  {
   "cell_type": "code",
   "execution_count": 32,
   "id": "4c9d6225",
   "metadata": {},
   "outputs": [
    {
     "data": {
      "text/plain": [
       "5.284301035502963"
      ]
     },
     "execution_count": 32,
     "metadata": {},
     "output_type": "execute_result"
    }
   ],
   "source": [
    "data[\"Ratings\"].mean()\n"
   ]
  },
  {
   "cell_type": "code",
   "execution_count": 33,
   "id": "3045a619",
   "metadata": {},
   "outputs": [
    {
     "data": {
      "text/plain": [
       "count    208.000000\n",
       "mean       5.284301\n",
       "std        2.785922\n",
       "min        0.384615\n",
       "25%        1.442308\n",
       "50%        7.067308\n",
       "75%        7.067308\n",
       "max        7.067308\n",
       "Name: Ratings, dtype: float64"
      ]
     },
     "execution_count": 33,
     "metadata": {},
     "output_type": "execute_result"
    }
   ],
   "source": [
    "data['Ratings'].describe()\n"
   ]
  },
  {
   "cell_type": "code",
   "execution_count": 34,
   "id": "2533dcee",
   "metadata": {},
   "outputs": [
    {
     "data": {
      "text/plain": [
       "<AxesSubplot:>"
      ]
     },
     "execution_count": 34,
     "metadata": {},
     "output_type": "execute_result"
    },
    {
     "data": {
      "image/png": "[encoded data removed]",
      "text/plain": [
       "<Figure size 432x288 with 1 Axes>"
      ]
     },
     "metadata": {
      "needs_background": "light"
     },
     "output_type": "display_data"
    }
   ],
   "source": [
    "data['Ratings'].hist(bins=10)"
   ]
  },
  {
   "cell_type": "code",
   "execution_count": 35,
   "id": "f9a7a779",
   "metadata": {},
   "outputs": [
    {
     "data": {
      "text/plain": [
       "Index(['Timestamp', 'Sex', 'Age',\n",
       "       'What single most factor would you consider when selecting an academic institution?',\n",
       "       'Ratings'],\n",
       "      dtype='object')"
      ]
     },
     "execution_count": 35,
     "metadata": {},
     "output_type": "execute_result"
    }
   ],
   "source": [
    "data.columns\n"
   ]
  },
  {
   "cell_type": "code",
   "execution_count": 36,
   "id": "4c48bdcb",
   "metadata": {},
   "outputs": [
    {
     "data": {
      "text/html": [
       "<div>\n",
       "<style scoped>\n",
       "    .dataframe tbody tr th:only-of-type {\n",
       "        vertical-align: middle;\n",
       "    }\n",
       "\n",
       "    .dataframe tbody tr th {\n",
       "        vertical-align: top;\n",
       "    }\n",
       "\n",
       "    .dataframe thead th {\n",
       "        text-align: right;\n",
       "    }\n",
       "</style>\n",
       "<table border=\"1\" class=\"dataframe\">\n",
       "  <thead>\n",
       "    <tr style=\"text-align: right;\">\n",
       "      <th>What single most factor would you consider when selecting an academic institution?</th>\n",
       "      <th>Academic Performance</th>\n",
       "      <th>Distance from Social Amenities(Hospitals,Transport Services)</th>\n",
       "      <th>Location</th>\n",
       "      <th>School Fees(On both termly or yearly basis)</th>\n",
       "      <th>Sports and other Co-curricular Activities</th>\n",
       "    </tr>\n",
       "    <tr>\n",
       "      <th>Timestamp</th>\n",
       "      <th></th>\n",
       "      <th></th>\n",
       "      <th></th>\n",
       "      <th></th>\n",
       "      <th></th>\n",
       "    </tr>\n",
       "  </thead>\n",
       "  <tbody>\n",
       "    <tr>\n",
       "      <th>2022/08/25 11:04:58 PM MDT</th>\n",
       "      <td>7.067308</td>\n",
       "      <td>NaN</td>\n",
       "      <td>NaN</td>\n",
       "      <td>NaN</td>\n",
       "      <td>NaN</td>\n",
       "    </tr>\n",
       "    <tr>\n",
       "      <th>2022/08/25 11:12:22 PM MDT</th>\n",
       "      <td>NaN</td>\n",
       "      <td>NaN</td>\n",
       "      <td>NaN</td>\n",
       "      <td>1.442308</td>\n",
       "      <td>NaN</td>\n",
       "    </tr>\n",
       "    <tr>\n",
       "      <th>2022/08/25 11:28:00 PM MDT</th>\n",
       "      <td>NaN</td>\n",
       "      <td>NaN</td>\n",
       "      <td>NaN</td>\n",
       "      <td>1.442308</td>\n",
       "      <td>NaN</td>\n",
       "    </tr>\n",
       "    <tr>\n",
       "      <th>2022/08/25 11:39:01 PM MDT</th>\n",
       "      <td>7.067308</td>\n",
       "      <td>NaN</td>\n",
       "      <td>NaN</td>\n",
       "      <td>NaN</td>\n",
       "      <td>NaN</td>\n",
       "    </tr>\n",
       "    <tr>\n",
       "      <th>2022/08/26 12:03:15 AM MDT</th>\n",
       "      <td>NaN</td>\n",
       "      <td>NaN</td>\n",
       "      <td>0.384615</td>\n",
       "      <td>NaN</td>\n",
       "      <td>NaN</td>\n",
       "    </tr>\n",
       "    <tr>\n",
       "      <th>2022/08/26 12:08:38 PM MDT</th>\n",
       "      <td>7.067308</td>\n",
       "      <td>NaN</td>\n",
       "      <td>NaN</td>\n",
       "      <td>NaN</td>\n",
       "      <td>NaN</td>\n",
       "    </tr>\n",
       "    <tr>\n",
       "      <th>2022/08/26 12:14:14 AM MDT</th>\n",
       "      <td>7.067308</td>\n",
       "      <td>NaN</td>\n",
       "      <td>NaN</td>\n",
       "      <td>NaN</td>\n",
       "      <td>NaN</td>\n",
       "    </tr>\n",
       "    <tr>\n",
       "      <th>2022/08/26 12:48:12 AM MDT</th>\n",
       "      <td>NaN</td>\n",
       "      <td>NaN</td>\n",
       "      <td>0.384615</td>\n",
       "      <td>NaN</td>\n",
       "      <td>NaN</td>\n",
       "    </tr>\n",
       "    <tr>\n",
       "      <th>2022/08/26 1:07:16 AM MDT</th>\n",
       "      <td>7.067308</td>\n",
       "      <td>NaN</td>\n",
       "      <td>NaN</td>\n",
       "      <td>NaN</td>\n",
       "      <td>NaN</td>\n",
       "    </tr>\n",
       "    <tr>\n",
       "      <th>2022/08/26 1:41:18 AM MDT</th>\n",
       "      <td>7.067308</td>\n",
       "      <td>NaN</td>\n",
       "      <td>NaN</td>\n",
       "      <td>NaN</td>\n",
       "      <td>NaN</td>\n",
       "    </tr>\n",
       "    <tr>\n",
       "      <th>2022/08/26 2:36:44 AM MDT</th>\n",
       "      <td>7.067308</td>\n",
       "      <td>NaN</td>\n",
       "      <td>NaN</td>\n",
       "      <td>NaN</td>\n",
       "      <td>NaN</td>\n",
       "    </tr>\n",
       "    <tr>\n",
       "      <th>2022/08/26 4:26:43 AM MDT</th>\n",
       "      <td>7.067308</td>\n",
       "      <td>NaN</td>\n",
       "      <td>NaN</td>\n",
       "      <td>NaN</td>\n",
       "      <td>NaN</td>\n",
       "    </tr>\n",
       "    <tr>\n",
       "      <th>2022/08/26 5:47:51 AM MDT</th>\n",
       "      <td>7.067308</td>\n",
       "      <td>NaN</td>\n",
       "      <td>NaN</td>\n",
       "      <td>NaN</td>\n",
       "      <td>NaN</td>\n",
       "    </tr>\n",
       "    <tr>\n",
       "      <th>2022/08/26 8:33:34 AM MDT</th>\n",
       "      <td>7.067308</td>\n",
       "      <td>NaN</td>\n",
       "      <td>NaN</td>\n",
       "      <td>NaN</td>\n",
       "      <td>NaN</td>\n",
       "    </tr>\n",
       "    <tr>\n",
       "      <th>2022/08/27 10:00:21 AM MDT</th>\n",
       "      <td>7.067308</td>\n",
       "      <td>NaN</td>\n",
       "      <td>NaN</td>\n",
       "      <td>NaN</td>\n",
       "      <td>NaN</td>\n",
       "    </tr>\n",
       "    <tr>\n",
       "      <th>2022/08/27 10:01:48 AM MDT</th>\n",
       "      <td>7.067308</td>\n",
       "      <td>NaN</td>\n",
       "      <td>NaN</td>\n",
       "      <td>NaN</td>\n",
       "      <td>NaN</td>\n",
       "    </tr>\n",
       "    <tr>\n",
       "      <th>2022/08/27 10:03:16 AM MDT</th>\n",
       "      <td>NaN</td>\n",
       "      <td>NaN</td>\n",
       "      <td>NaN</td>\n",
       "      <td>1.442308</td>\n",
       "      <td>NaN</td>\n",
       "    </tr>\n",
       "    <tr>\n",
       "      <th>2022/08/27 10:05:14 AM MDT</th>\n",
       "      <td>7.067308</td>\n",
       "      <td>NaN</td>\n",
       "      <td>NaN</td>\n",
       "      <td>NaN</td>\n",
       "      <td>NaN</td>\n",
       "    </tr>\n",
       "    <tr>\n",
       "      <th>2022/08/27 10:05:25 AM MDT</th>\n",
       "      <td>7.067308</td>\n",
       "      <td>NaN</td>\n",
       "      <td>NaN</td>\n",
       "      <td>NaN</td>\n",
       "      <td>NaN</td>\n",
       "    </tr>\n",
       "    <tr>\n",
       "      <th>2022/08/27 10:08:46 AM MDT</th>\n",
       "      <td>7.067308</td>\n",
       "      <td>NaN</td>\n",
       "      <td>NaN</td>\n",
       "      <td>NaN</td>\n",
       "      <td>NaN</td>\n",
       "    </tr>\n",
       "  </tbody>\n",
       "</table>\n",
       "</div>"
      ],
      "text/plain": [
       "What single most factor would you consider when selecting an academic institution?  Academic Performance  \\\n",
       "Timestamp                                                                                                  \n",
       "2022/08/25 11:04:58 PM MDT                                                                      7.067308   \n",
       "2022/08/25 11:12:22 PM MDT                                                                           NaN   \n",
       "2022/08/25 11:28:00 PM MDT                                                                           NaN   \n",
       "2022/08/25 11:39:01 PM MDT                                                                      7.067308   \n",
       "2022/08/26 12:03:15 AM MDT                                                                           NaN   \n",
       "2022/08/26 12:08:38 PM MDT                                                                      7.067308   \n",
       "2022/08/26 12:14:14 AM MDT                                                                      7.067308   \n",
       "2022/08/26 12:48:12 AM MDT                                                                           NaN   \n",
       "2022/08/26 1:07:16 AM MDT                                                                       7.067308   \n",
       "2022/08/26 1:41:18 AM MDT                                                                       7.067308   \n",
       "2022/08/26 2:36:44 AM MDT                                                                       7.067308   \n",
       "2022/08/26 4:26:43 AM MDT                                                                       7.067308   \n",
       "2022/08/26 5:47:51 AM MDT                                                                       7.067308   \n",
       "2022/08/26 8:33:34 AM MDT                                                                       7.067308   \n",
       "2022/08/27 10:00:21 AM MDT                                                                      7.067308   \n",
       "2022/08/27 10:01:48 AM MDT                                                                      7.067308   \n",
       "2022/08/27 10:03:16 AM MDT                                                                           NaN   \n",
       "2022/08/27 10:05:14 AM MDT                                                                      7.067308   \n",
       "2022/08/27 10:05:25 AM MDT                                                                      7.067308   \n",
       "2022/08/27 10:08:46 AM MDT                                                                      7.067308   \n",
       "\n",
       "What single most factor would you consider when selecting an academic institution?  Distance from Social Amenities(Hospitals,Transport Services)  \\\n",
       "Timestamp                                                                                                                                          \n",
       "2022/08/25 11:04:58 PM MDT                                                                                                        NaN              \n",
       "2022/08/25 11:12:22 PM MDT                                                                                                        NaN              \n",
       "2022/08/25 11:28:00 PM MDT                                                                                                        NaN              \n",
       "2022/08/25 11:39:01 PM MDT                                                                                                        NaN              \n",
       "2022/08/26 12:03:15 AM MDT                                                                                                        NaN              \n",
       "2022/08/26 12:08:38 PM MDT                                                                                                        NaN              \n",
       "2022/08/26 12:14:14 AM MDT                                                                                                        NaN              \n",
       "2022/08/26 12:48:12 AM MDT                                                                                                        NaN              \n",
       "2022/08/26 1:07:16 AM MDT                                                                                                         NaN              \n",
       "2022/08/26 1:41:18 AM MDT                                                                                                         NaN              \n",
       "2022/08/26 2:36:44 AM MDT                                                                                                         NaN              \n",
       "2022/08/26 4:26:43 AM MDT                                                                                                         NaN              \n",
       "2022/08/26 5:47:51 AM MDT                                                                                                         NaN              \n",
       "2022/08/26 8:33:34 AM MDT                                                                                                         NaN              \n",
       "2022/08/27 10:00:21 AM MDT                                                                                                        NaN              \n",
       "2022/08/27 10:01:48 AM MDT                                                                                                        NaN              \n",
       "2022/08/27 10:03:16 AM MDT                                                                                                        NaN              \n",
       "2022/08/27 10:05:14 AM MDT                                                                                                        NaN              \n",
       "2022/08/27 10:05:25 AM MDT                                                                                                        NaN              \n",
       "2022/08/27 10:08:46 AM MDT                                                                                                        NaN              \n",
       "\n",
       "What single most factor would you consider when selecting an academic institution?  Location  \\\n",
       "Timestamp                                                                                      \n",
       "2022/08/25 11:04:58 PM MDT                                                               NaN   \n",
       "2022/08/25 11:12:22 PM MDT                                                               NaN   \n",
       "2022/08/25 11:28:00 PM MDT                                                               NaN   \n",
       "2022/08/25 11:39:01 PM MDT                                                               NaN   \n",
       "2022/08/26 12:03:15 AM MDT                                                          0.384615   \n",
       "2022/08/26 12:08:38 PM MDT                                                               NaN   \n",
       "2022/08/26 12:14:14 AM MDT                                                               NaN   \n",
       "2022/08/26 12:48:12 AM MDT                                                          0.384615   \n",
       "2022/08/26 1:07:16 AM MDT                                                                NaN   \n",
       "2022/08/26 1:41:18 AM MDT                                                                NaN   \n",
       "2022/08/26 2:36:44 AM MDT                                                                NaN   \n",
       "2022/08/26 4:26:43 AM MDT                                                                NaN   \n",
       "2022/08/26 5:47:51 AM MDT                                                                NaN   \n",
       "2022/08/26 8:33:34 AM MDT                                                                NaN   \n",
       "2022/08/27 10:00:21 AM MDT                                                               NaN   \n",
       "2022/08/27 10:01:48 AM MDT                                                               NaN   \n",
       "2022/08/27 10:03:16 AM MDT                                                               NaN   \n",
       "2022/08/27 10:05:14 AM MDT                                                               NaN   \n",
       "2022/08/27 10:05:25 AM MDT                                                               NaN   \n",
       "2022/08/27 10:08:46 AM MDT                                                               NaN   \n",
       "\n",
       "What single most factor would you consider when selecting an academic institution?  School Fees(On both termly or yearly basis)  \\\n",
       "Timestamp                                                                                                                         \n",
       "2022/08/25 11:04:58 PM MDT                                                                                                  NaN   \n",
       "2022/08/25 11:12:22 PM MDT                                                                                             1.442308   \n",
       "2022/08/25 11:28:00 PM MDT                                                                                             1.442308   \n",
       "2022/08/25 11:39:01 PM MDT                                                                                                  NaN   \n",
       "2022/08/26 12:03:15 AM MDT                                                                                                  NaN   \n",
       "2022/08/26 12:08:38 PM MDT                                                                                                  NaN   \n",
       "2022/08/26 12:14:14 AM MDT                                                                                                  NaN   \n",
       "2022/08/26 12:48:12 AM MDT                                                                                                  NaN   \n",
       "2022/08/26 1:07:16 AM MDT                                                                                                   NaN   \n",
       "2022/08/26 1:41:18 AM MDT                                                                                                   NaN   \n",
       "2022/08/26 2:36:44 AM MDT                                                                                                   NaN   \n",
       "2022/08/26 4:26:43 AM MDT                                                                                                   NaN   \n",
       "2022/08/26 5:47:51 AM MDT                                                                                                   NaN   \n",
       "2022/08/26 8:33:34 AM MDT                                                                                                   NaN   \n",
       "2022/08/27 10:00:21 AM MDT                                                                                                  NaN   \n",
       "2022/08/27 10:01:48 AM MDT                                                                                                  NaN   \n",
       "2022/08/27 10:03:16 AM MDT                                                                                             1.442308   \n",
       "2022/08/27 10:05:14 AM MDT                                                                                                  NaN   \n",
       "2022/08/27 10:05:25 AM MDT                                                                                                  NaN   \n",
       "2022/08/27 10:08:46 AM MDT                                                                                                  NaN   \n",
       "\n",
       "What single most factor would you consider when selecting an academic institution?  Sports and other Co-curricular Activities  \n",
       "Timestamp                                                                                                                      \n",
       "2022/08/25 11:04:58 PM MDT                                                                                                NaN  \n",
       "2022/08/25 11:12:22 PM MDT                                                                                                NaN  \n",
       "2022/08/25 11:28:00 PM MDT                                                                                                NaN  \n",
       "2022/08/25 11:39:01 PM MDT                                                                                                NaN  \n",
       "2022/08/26 12:03:15 AM MDT                                                                                                NaN  \n",
       "2022/08/26 12:08:38 PM MDT                                                                                                NaN  \n",
       "2022/08/26 12:14:14 AM MDT                                                                                                NaN  \n",
       "2022/08/26 12:48:12 AM MDT                                                                                                NaN  \n",
       "2022/08/26 1:07:16 AM MDT                                                                                                 NaN  \n",
       "2022/08/26 1:41:18 AM MDT                                                                                                 NaN  \n",
       "2022/08/26 2:36:44 AM MDT                                                                                                 NaN  \n",
       "2022/08/26 4:26:43 AM MDT                                                                                                 NaN  \n",
       "2022/08/26 5:47:51 AM MDT                                                                                                 NaN  \n",
       "2022/08/26 8:33:34 AM MDT                                                                                                 NaN  \n",
       "2022/08/27 10:00:21 AM MDT                                                                                                NaN  \n",
       "2022/08/27 10:01:48 AM MDT                                                                                                NaN  \n",
       "2022/08/27 10:03:16 AM MDT                                                                                                NaN  \n",
       "2022/08/27 10:05:14 AM MDT                                                                                                NaN  \n",
       "2022/08/27 10:05:25 AM MDT                                                                                                NaN  \n",
       "2022/08/27 10:08:46 AM MDT                                                                                                NaN  "
      ]
     },
     "execution_count": 36,
     "metadata": {},
     "output_type": "execute_result"
    }
   ],
   "source": [
    "##BUILD PANDAS RECOMMENDATION MODEL\n",
    "\n",
    "Rater = data.pivot_table(index='Timestamp',columns='What single most factor would you consider when selecting an academic institution?',values='Ratings')\n",
    "Rater.head(20)"
   ]
  },
  {
   "cell_type": "code",
   "execution_count": 37,
   "id": "e97781b3",
   "metadata": {},
   "outputs": [
    {
     "data": {
      "text/plain": [
       "Index(['Timestamp', 'Sex', 'Age',\n",
       "       'What single most factor would you consider when selecting an academic institution?',\n",
       "       'Ratings'],\n",
       "      dtype='object')"
      ]
     },
     "execution_count": 37,
     "metadata": {},
     "output_type": "execute_result"
    }
   ],
   "source": [
    "data.columns"
   ]
  },
  {
   "cell_type": "code",
   "execution_count": 38,
   "id": "9bd04e0f",
   "metadata": {},
   "outputs": [
    {
     "data": {
      "text/html": [
       "<div>\n",
       "<style scoped>\n",
       "    .dataframe tbody tr th:only-of-type {\n",
       "        vertical-align: middle;\n",
       "    }\n",
       "\n",
       "    .dataframe tbody tr th {\n",
       "        vertical-align: top;\n",
       "    }\n",
       "\n",
       "    .dataframe thead th {\n",
       "        text-align: right;\n",
       "    }\n",
       "</style>\n",
       "<table border=\"1\" class=\"dataframe\">\n",
       "  <thead>\n",
       "    <tr style=\"text-align: right;\">\n",
       "      <th></th>\n",
       "      <th>Unnamed: 0</th>\n",
       "      <th>What single most factor would you consider when selecting an academic institution?</th>\n",
       "    </tr>\n",
       "  </thead>\n",
       "  <tbody>\n",
       "    <tr>\n",
       "      <th>0</th>\n",
       "      <td>Academic Performance</td>\n",
       "      <td>147</td>\n",
       "    </tr>\n",
       "    <tr>\n",
       "      <th>1</th>\n",
       "      <td>School Fees(On both termly or yearly basis)</td>\n",
       "      <td>30</td>\n",
       "    </tr>\n",
       "    <tr>\n",
       "      <th>2</th>\n",
       "      <td>Distance from Social Amenities(Hospitals,Trans...</td>\n",
       "      <td>15</td>\n",
       "    </tr>\n",
       "    <tr>\n",
       "      <th>3</th>\n",
       "      <td>Location</td>\n",
       "      <td>8</td>\n",
       "    </tr>\n",
       "    <tr>\n",
       "      <th>4</th>\n",
       "      <td>Sports and other Co-curricular Activities</td>\n",
       "      <td>8</td>\n",
       "    </tr>\n",
       "  </tbody>\n",
       "</table>\n",
       "</div>"
      ],
      "text/plain": [
       "                                          Unnamed: 0  \\\n",
       "0                               Academic Performance   \n",
       "1        School Fees(On both termly or yearly basis)   \n",
       "2  Distance from Social Amenities(Hospitals,Trans...   \n",
       "3                                           Location   \n",
       "4          Sports and other Co-curricular Activities   \n",
       "\n",
       "   What single most factor would you consider when selecting an academic institution?  \n",
       "0                                                147                                   \n",
       "1                                                 30                                   \n",
       "2                                                 15                                   \n",
       "3                                                  8                                   \n",
       "4                                                  8                                   "
      ]
     },
     "execution_count": 38,
     "metadata": {},
     "output_type": "execute_result"
    }
   ],
   "source": [
    "dat=pd.read_csv(\"num of ratings.csv\")\n",
    "dat.head()"
   ]
  },
  {
   "cell_type": "code",
   "execution_count": 39,
   "id": "b1fdb3c0",
   "metadata": {},
   "outputs": [],
   "source": [
    "dat.rename(columns = {'Unnamed: 0':'What single most factor would you consider when selecting an academic institution?', 'What single most factor would you consider when selecting an academic institution?':'num of ratings'}, inplace = True)"
   ]
  },
  {
   "cell_type": "code",
   "execution_count": 40,
   "id": "99b2d524",
   "metadata": {
    "scrolled": true
   },
   "outputs": [
    {
     "data": {
      "text/html": [
       "<div>\n",
       "<style scoped>\n",
       "    .dataframe tbody tr th:only-of-type {\n",
       "        vertical-align: middle;\n",
       "    }\n",
       "\n",
       "    .dataframe tbody tr th {\n",
       "        vertical-align: top;\n",
       "    }\n",
       "\n",
       "    .dataframe thead th {\n",
       "        text-align: right;\n",
       "    }\n",
       "</style>\n",
       "<table border=\"1\" class=\"dataframe\">\n",
       "  <thead>\n",
       "    <tr style=\"text-align: right;\">\n",
       "      <th></th>\n",
       "      <th>What single most factor would you consider when selecting an academic institution?</th>\n",
       "      <th>num of ratings</th>\n",
       "    </tr>\n",
       "  </thead>\n",
       "  <tbody>\n",
       "    <tr>\n",
       "      <th>0</th>\n",
       "      <td>Academic Performance</td>\n",
       "      <td>147</td>\n",
       "    </tr>\n",
       "    <tr>\n",
       "      <th>1</th>\n",
       "      <td>School Fees(On both termly or yearly basis)</td>\n",
       "      <td>30</td>\n",
       "    </tr>\n",
       "    <tr>\n",
       "      <th>2</th>\n",
       "      <td>Distance from Social Amenities(Hospitals,Trans...</td>\n",
       "      <td>15</td>\n",
       "    </tr>\n",
       "    <tr>\n",
       "      <th>3</th>\n",
       "      <td>Location</td>\n",
       "      <td>8</td>\n",
       "    </tr>\n",
       "    <tr>\n",
       "      <th>4</th>\n",
       "      <td>Sports and other Co-curricular Activities</td>\n",
       "      <td>8</td>\n",
       "    </tr>\n",
       "  </tbody>\n",
       "</table>\n",
       "</div>"
      ],
      "text/plain": [
       "  What single most factor would you consider when selecting an academic institution?  \\\n",
       "0                               Academic Performance                                   \n",
       "1        School Fees(On both termly or yearly basis)                                   \n",
       "2  Distance from Social Amenities(Hospitals,Trans...                                   \n",
       "3                                           Location                                   \n",
       "4          Sports and other Co-curricular Activities                                   \n",
       "\n",
       "   num of ratings  \n",
       "0             147  \n",
       "1              30  \n",
       "2              15  \n",
       "3               8  \n",
       "4               8  "
      ]
     },
     "execution_count": 40,
     "metadata": {},
     "output_type": "execute_result"
    }
   ],
   "source": [
    "dat"
   ]
  },
  {
   "cell_type": "code",
   "execution_count": 41,
   "id": "6134211c",
   "metadata": {},
   "outputs": [
    {
     "data": {
      "text/html": [
       "<div>\n",
       "<style scoped>\n",
       "    .dataframe tbody tr th:only-of-type {\n",
       "        vertical-align: middle;\n",
       "    }\n",
       "\n",
       "    .dataframe tbody tr th {\n",
       "        vertical-align: top;\n",
       "    }\n",
       "\n",
       "    .dataframe thead th {\n",
       "        text-align: right;\n",
       "    }\n",
       "</style>\n",
       "<table border=\"1\" class=\"dataframe\">\n",
       "  <thead>\n",
       "    <tr style=\"text-align: right;\">\n",
       "      <th></th>\n",
       "      <th>What single most factor would you consider when selecting an academic institution?</th>\n",
       "      <th>num of ratings</th>\n",
       "    </tr>\n",
       "  </thead>\n",
       "  <tbody>\n",
       "    <tr>\n",
       "      <th>0</th>\n",
       "      <td>Academic Performance</td>\n",
       "      <td>147</td>\n",
       "    </tr>\n",
       "    <tr>\n",
       "      <th>1</th>\n",
       "      <td>School Fees(On both termly or yearly basis)</td>\n",
       "      <td>30</td>\n",
       "    </tr>\n",
       "    <tr>\n",
       "      <th>2</th>\n",
       "      <td>Distance from Social Amenities(Hospitals,Trans...</td>\n",
       "      <td>15</td>\n",
       "    </tr>\n",
       "    <tr>\n",
       "      <th>3</th>\n",
       "      <td>Location</td>\n",
       "      <td>8</td>\n",
       "    </tr>\n",
       "    <tr>\n",
       "      <th>4</th>\n",
       "      <td>Sports and other Co-curricular Activities</td>\n",
       "      <td>8</td>\n",
       "    </tr>\n",
       "  </tbody>\n",
       "</table>\n",
       "</div>"
      ],
      "text/plain": [
       "  What single most factor would you consider when selecting an academic institution?  \\\n",
       "0                               Academic Performance                                   \n",
       "1        School Fees(On both termly or yearly basis)                                   \n",
       "2  Distance from Social Amenities(Hospitals,Trans...                                   \n",
       "3                                           Location                                   \n",
       "4          Sports and other Co-curricular Activities                                   \n",
       "\n",
       "   num of ratings  \n",
       "0             147  \n",
       "1              30  \n",
       "2              15  \n",
       "3               8  \n",
       "4               8  "
      ]
     },
     "execution_count": 41,
     "metadata": {},
     "output_type": "execute_result"
    }
   ],
   "source": [
    "dat.sort_values('num of ratings',ascending=False).head(10)"
   ]
  },
  {
   "cell_type": "code",
   "execution_count": 42,
   "id": "339971aa",
   "metadata": {},
   "outputs": [
    {
     "data": {
      "text/html": [
       "<div>\n",
       "<style scoped>\n",
       "    .dataframe tbody tr th:only-of-type {\n",
       "        vertical-align: middle;\n",
       "    }\n",
       "\n",
       "    .dataframe tbody tr th {\n",
       "        vertical-align: top;\n",
       "    }\n",
       "\n",
       "    .dataframe thead th {\n",
       "        text-align: right;\n",
       "    }\n",
       "</style>\n",
       "<table border=\"1\" class=\"dataframe\">\n",
       "  <thead>\n",
       "    <tr style=\"text-align: right;\">\n",
       "      <th></th>\n",
       "      <th>What single most factor would you consider when selecting an academic institution?</th>\n",
       "      <th>Ratings</th>\n",
       "    </tr>\n",
       "  </thead>\n",
       "  <tbody>\n",
       "    <tr>\n",
       "      <th>0</th>\n",
       "      <td>Academic Performance</td>\n",
       "      <td>7.067308</td>\n",
       "    </tr>\n",
       "    <tr>\n",
       "      <th>1</th>\n",
       "      <td>School Fees(On both termly or yearly basis)</td>\n",
       "      <td>1.442308</td>\n",
       "    </tr>\n",
       "    <tr>\n",
       "      <th>2</th>\n",
       "      <td>Distance from Social Amenities(Hospitals,Trans...</td>\n",
       "      <td>0.721154</td>\n",
       "    </tr>\n",
       "    <tr>\n",
       "      <th>3</th>\n",
       "      <td>Location</td>\n",
       "      <td>0.384615</td>\n",
       "    </tr>\n",
       "    <tr>\n",
       "      <th>4</th>\n",
       "      <td>Sports and other Co-curricular Activities</td>\n",
       "      <td>0.384615</td>\n",
       "    </tr>\n",
       "  </tbody>\n",
       "</table>\n",
       "</div>"
      ],
      "text/plain": [
       "  What single most factor would you consider when selecting an academic institution?  \\\n",
       "0                               Academic Performance                                   \n",
       "1        School Fees(On both termly or yearly basis)                                   \n",
       "2  Distance from Social Amenities(Hospitals,Trans...                                   \n",
       "3                                           Location                                   \n",
       "4          Sports and other Co-curricular Activities                                   \n",
       "\n",
       "    Ratings  \n",
       "0  7.067308  \n",
       "1  1.442308  \n",
       "2  0.721154  \n",
       "3  0.384615  \n",
       "4  0.384615  "
      ]
     },
     "execution_count": 42,
     "metadata": {},
     "output_type": "execute_result"
    }
   ],
   "source": [
    "rate.sort_values('Ratings',ascending=False).head(10)"
   ]
  },
  {
   "cell_type": "markdown",
   "id": "938f2425",
   "metadata": {},
   "source": [
    "##join ratings and number of ratings dataframes"
   ]
  },
  {
   "cell_type": "code",
   "execution_count": 43,
   "id": "896c95e3",
   "metadata": {},
   "outputs": [
    {
     "name": "stdout",
     "output_type": "stream",
     "text": [
      "  What single most factor would you consider when selecting an academic institution?  \\\n",
      "0                               Academic Performance                                   \n",
      "1        School Fees(On both termly or yearly basis)                                   \n",
      "2  Distance from Social Amenities(Hospitals,Trans...                                   \n",
      "3                                           Location                                   \n",
      "4          Sports and other Co-curricular Activities                                   \n",
      "\n",
      "   num of ratings   Ratings  \n",
      "0             147  7.067308  \n",
      "1              30  1.442308  \n",
      "2              15  0.721154  \n",
      "3               8  0.384615  \n",
      "4               8  0.384615  \n"
     ]
    }
   ],
   "source": [
    "Dataxx = pd.merge(dat, rate, on=[\"What single most factor would you consider when selecting an academic institution?\", \"What single most factor would you consider when selecting an academic institution?\"])\n",
    "print(Dataxx.head())\n"
   ]
  },
  {
   "cell_type": "code",
   "execution_count": 44,
   "id": "68b6a179",
   "metadata": {},
   "outputs": [
    {
     "data": {
      "text/html": [
       "<div>\n",
       "<style scoped>\n",
       "    .dataframe tbody tr th:only-of-type {\n",
       "        vertical-align: middle;\n",
       "    }\n",
       "\n",
       "    .dataframe tbody tr th {\n",
       "        vertical-align: top;\n",
       "    }\n",
       "\n",
       "    .dataframe thead th {\n",
       "        text-align: right;\n",
       "    }\n",
       "</style>\n",
       "<table border=\"1\" class=\"dataframe\">\n",
       "  <thead>\n",
       "    <tr style=\"text-align: right;\">\n",
       "      <th></th>\n",
       "      <th>What single most factor would you consider when selecting an academic institution?</th>\n",
       "      <th>num of ratings</th>\n",
       "      <th>Ratings</th>\n",
       "    </tr>\n",
       "  </thead>\n",
       "  <tbody>\n",
       "    <tr>\n",
       "      <th>0</th>\n",
       "      <td>Academic Performance</td>\n",
       "      <td>147</td>\n",
       "      <td>7.067308</td>\n",
       "    </tr>\n",
       "    <tr>\n",
       "      <th>1</th>\n",
       "      <td>School Fees(On both termly or yearly basis)</td>\n",
       "      <td>30</td>\n",
       "      <td>1.442308</td>\n",
       "    </tr>\n",
       "    <tr>\n",
       "      <th>2</th>\n",
       "      <td>Distance from Social Amenities(Hospitals,Trans...</td>\n",
       "      <td>15</td>\n",
       "      <td>0.721154</td>\n",
       "    </tr>\n",
       "    <tr>\n",
       "      <th>3</th>\n",
       "      <td>Location</td>\n",
       "      <td>8</td>\n",
       "      <td>0.384615</td>\n",
       "    </tr>\n",
       "    <tr>\n",
       "      <th>4</th>\n",
       "      <td>Sports and other Co-curricular Activities</td>\n",
       "      <td>8</td>\n",
       "      <td>0.384615</td>\n",
       "    </tr>\n",
       "  </tbody>\n",
       "</table>\n",
       "</div>"
      ],
      "text/plain": [
       "  What single most factor would you consider when selecting an academic institution?  \\\n",
       "0                               Academic Performance                                   \n",
       "1        School Fees(On both termly or yearly basis)                                   \n",
       "2  Distance from Social Amenities(Hospitals,Trans...                                   \n",
       "3                                           Location                                   \n",
       "4          Sports and other Co-curricular Activities                                   \n",
       "\n",
       "   num of ratings   Ratings  \n",
       "0             147  7.067308  \n",
       "1              30  1.442308  \n",
       "2              15  0.721154  \n",
       "3               8  0.384615  \n",
       "4               8  0.384615  "
      ]
     },
     "execution_count": 44,
     "metadata": {},
     "output_type": "execute_result"
    }
   ],
   "source": [
    "Dataxx"
   ]
  },
  {
   "cell_type": "code",
   "execution_count": 45,
   "id": "858ea8e4",
   "metadata": {},
   "outputs": [
    {
     "data": {
      "text/plain": [
       "Timestamp\n",
       "2022/08/25 11:04:58 PM MDT    7.067308\n",
       "2022/08/25 11:12:22 PM MDT         NaN\n",
       "2022/08/25 11:28:00 PM MDT         NaN\n",
       "2022/08/25 11:39:01 PM MDT    7.067308\n",
       "2022/08/26 12:03:15 AM MDT         NaN\n",
       "2022/08/26 12:08:38 PM MDT    7.067308\n",
       "2022/08/26 12:14:14 AM MDT    7.067308\n",
       "2022/08/26 12:48:12 AM MDT         NaN\n",
       "2022/08/26 1:07:16 AM MDT     7.067308\n",
       "2022/08/26 1:41:18 AM MDT     7.067308\n",
       "Name: Academic Performance, dtype: float64"
      ]
     },
     "execution_count": 45,
     "metadata": {},
     "output_type": "execute_result"
    }
   ],
   "source": [
    "Academic_user_ratings=Rater['Academic Performance']\n",
    "Fee_user_ratings =Rater['School Fees(On both termly or yearly basis)']\n",
    "Academic_user_ratings.head(10)"
   ]
  },
  {
   "cell_type": "code",
   "execution_count": 46,
   "id": "788694bc",
   "metadata": {},
   "outputs": [],
   "source": [
    "similar_to_Academic =Rater.corrwith(Academic_user_ratings)\n",
    "similar_to_Fees =Rater.corrwith(Fee_user_ratings)"
   ]
  },
  {
   "cell_type": "code",
   "execution_count": 47,
   "id": "e6dbcfc6",
   "metadata": {},
   "outputs": [
    {
     "data": {
      "text/html": [
       "<div>\n",
       "<style scoped>\n",
       "    .dataframe tbody tr th:only-of-type {\n",
       "        vertical-align: middle;\n",
       "    }\n",
       "\n",
       "    .dataframe tbody tr th {\n",
       "        vertical-align: top;\n",
       "    }\n",
       "\n",
       "    .dataframe thead th {\n",
       "        text-align: right;\n",
       "    }\n",
       "</style>\n",
       "<table border=\"1\" class=\"dataframe\">\n",
       "  <thead>\n",
       "    <tr style=\"text-align: right;\">\n",
       "      <th></th>\n",
       "      <th>Correlation</th>\n",
       "    </tr>\n",
       "    <tr>\n",
       "      <th>What single most factor would you consider when selecting an academic institution?</th>\n",
       "      <th></th>\n",
       "    </tr>\n",
       "  </thead>\n",
       "  <tbody>\n",
       "    <tr>\n",
       "      <th>Academic Performance</th>\n",
       "      <td>1.0</td>\n",
       "    </tr>\n",
       "  </tbody>\n",
       "</table>\n",
       "</div>"
      ],
      "text/plain": [
       "                                                    Correlation\n",
       "What single most factor would you consider when...             \n",
       "Academic Performance                                        1.0"
      ]
     },
     "execution_count": 47,
     "metadata": {},
     "output_type": "execute_result"
    }
   ],
   "source": [
    "corr_Academic = pd.DataFrame(similar_to_Academic,columns=['Correlation'])\n",
    "corr_Academic.dropna(inplace=True)\n",
    "corr_Academic.head()"
   ]
  },
  {
   "cell_type": "code",
   "execution_count": 48,
   "id": "80c89f49",
   "metadata": {},
   "outputs": [
    {
     "data": {
      "text/html": [
       "<div>\n",
       "<style scoped>\n",
       "    .dataframe tbody tr th:only-of-type {\n",
       "        vertical-align: middle;\n",
       "    }\n",
       "\n",
       "    .dataframe tbody tr th {\n",
       "        vertical-align: top;\n",
       "    }\n",
       "\n",
       "    .dataframe thead th {\n",
       "        text-align: right;\n",
       "    }\n",
       "</style>\n",
       "<table border=\"1\" class=\"dataframe\">\n",
       "  <thead>\n",
       "    <tr style=\"text-align: right;\">\n",
       "      <th></th>\n",
       "      <th>Correlation</th>\n",
       "    </tr>\n",
       "    <tr>\n",
       "      <th>What single most factor would you consider when selecting an academic institution?</th>\n",
       "      <th></th>\n",
       "    </tr>\n",
       "  </thead>\n",
       "  <tbody>\n",
       "    <tr>\n",
       "      <th>Academic Performance</th>\n",
       "      <td>1.0</td>\n",
       "    </tr>\n",
       "  </tbody>\n",
       "</table>\n",
       "</div>"
      ],
      "text/plain": [
       "                                                    Correlation\n",
       "What single most factor would you consider when...             \n",
       "Academic Performance                                        1.0"
      ]
     },
     "execution_count": 48,
     "metadata": {},
     "output_type": "execute_result"
    }
   ],
   "source": [
    "corr_Academic.sort_values('Correlation',ascending=False).head(10)\n"
   ]
  },
  {
   "cell_type": "code",
   "execution_count": 49,
   "id": "ea79d471",
   "metadata": {},
   "outputs": [
    {
     "data": {
      "text/html": [
       "<div>\n",
       "<style scoped>\n",
       "    .dataframe tbody tr th:only-of-type {\n",
       "        vertical-align: middle;\n",
       "    }\n",
       "\n",
       "    .dataframe tbody tr th {\n",
       "        vertical-align: top;\n",
       "    }\n",
       "\n",
       "    .dataframe thead th {\n",
       "        text-align: right;\n",
       "    }\n",
       "</style>\n",
       "<table border=\"1\" class=\"dataframe\">\n",
       "  <thead>\n",
       "    <tr style=\"text-align: right;\">\n",
       "      <th></th>\n",
       "      <th>Correlation</th>\n",
       "      <th>num of ratings</th>\n",
       "    </tr>\n",
       "    <tr>\n",
       "      <th>What single most factor would you consider when selecting an academic institution?</th>\n",
       "      <th></th>\n",
       "      <th></th>\n",
       "    </tr>\n",
       "  </thead>\n",
       "  <tbody>\n",
       "    <tr>\n",
       "      <th>School Fees(On both termly or yearly basis)</th>\n",
       "      <td>1.0</td>\n",
       "      <td>NaN</td>\n",
       "    </tr>\n",
       "  </tbody>\n",
       "</table>\n",
       "</div>"
      ],
      "text/plain": [
       "                                                    Correlation  \\\n",
       "What single most factor would you consider when...                \n",
       "School Fees(On both termly or yearly basis)                 1.0   \n",
       "\n",
       "                                                    num of ratings  \n",
       "What single most factor would you consider when...                  \n",
       "School Fees(On both termly or yearly basis)                    NaN  "
      ]
     },
     "execution_count": 49,
     "metadata": {},
     "output_type": "execute_result"
    }
   ],
   "source": [
    "corr_Fee = pd.DataFrame(similar_to_Fees,columns=['Correlation'])\n",
    "corr_Fee.dropna(inplace=True)\n",
    "corr_Fee = corr_Fee.join(Dataxx['num of ratings'])\n",
    "corr_Fee[corr_Fee['Correlation']>0.5].sort_values('Correlation',ascending=False).head()"
   ]
  },
  {
   "cell_type": "code",
   "execution_count": null,
   "id": "4bbb23e1",
   "metadata": {},
   "outputs": [],
   "source": []
  },
  {
   "cell_type": "code",
   "execution_count": null,
   "id": "20f8ab29",
   "metadata": {},
   "outputs": [],
   "source": []
  },
  {
   "cell_type": "code",
   "execution_count": 50,
   "id": "341eac6e",
   "metadata": {},
   "outputs": [],
   "source": [
    "##COLLABORATIVE FILTERING RECOMMENDATION MODEL"
   ]
  },
  {
   "cell_type": "code",
   "execution_count": 51,
   "id": "f3d875bf",
   "metadata": {},
   "outputs": [],
   "source": [
    "from sklearn.metrics.pairwise import cosine_similarity\n",
    "from sklearn.metrics import mean_squared_error\n",
    "from sklearn.model_selection import train_test_split\n",
    "from sklearn.feature_extraction.text import TfidfVectorizer\n",
    "from sklearn.metrics.pairwise import linear_kernel\n"
   ]
  },
  {
   "cell_type": "code",
   "execution_count": 130,
   "id": "bcca3320",
   "metadata": {},
   "outputs": [
    {
     "data": {
      "text/plain": [
       "(208, 487)"
      ]
     },
     "execution_count": 130,
     "metadata": {},
     "output_type": "execute_result"
    }
   ],
   "source": [
    "from sklearn.feature_extraction.text import TfidfVectorizer\n",
    "tf = TfidfVectorizer(analyzer='word',ngram_range=(1, 2),min_df=0, stop_words='english')\n",
    "tfidf_matrix = tf.fit_transform(data['Timestamp'])\n",
    "tfidf_matrix.shape"
   ]
  },
  {
   "cell_type": "code",
   "execution_count": 131,
   "id": "f80e6a23",
   "metadata": {},
   "outputs": [
    {
     "data": {
      "text/plain": [
       "array([[1.        , 0.39890367, 0.01986287, 0.0229091 ],\n",
       "       [0.39890367, 1.        , 0.01995102, 0.02301076],\n",
       "       [0.01986287, 0.01995102, 1.        , 0.18381314],\n",
       "       [0.0229091 , 0.02301076, 0.18381314, 1.        ]])"
      ]
     },
     "execution_count": 131,
     "metadata": {},
     "output_type": "execute_result"
    }
   ],
   "source": [
    "from sklearn.metrics.pairwise import cosine_similarity\n",
    "cosine_sim = cosine_similarity(tfidf_matrix, tfidf_matrix)\n",
    "cosine_sim[:4, :4]"
   ]
  },
  {
   "cell_type": "code",
   "execution_count": 135,
   "id": "c89c46d8",
   "metadata": {},
   "outputs": [],
   "source": [
    "Timer = data['Timestamp']\n",
    "indices = pd.Series(data.index, index=data['Timestamp'])"
   ]
  },
  {
   "cell_type": "code",
   "execution_count": 144,
   "id": "18b6538c",
   "metadata": {},
   "outputs": [],
   "source": [
    "def school_recommendations(Timestamp):\n",
    "    idx = indices[Timestamp]\n",
    "    sim_scores = list(enumerate(cosine_sim[idx]))\n",
    "    sim_scores = sorted(sim_scores, key=lambda x: x[1], reverse=True)\n",
    "    sim_scores = sim_scores[1:21]\n",
    "    movie_indices = [i[0] for i in sim_scores]\n",
    "    return titles.iloc[movie_indices]"
   ]
  },
  {
   "cell_type": "code",
   "execution_count": 155,
   "id": "c6fc67b5",
   "metadata": {},
   "outputs": [
    {
     "data": {
      "text/plain": [
       "147    2022/08/25 11:12:22 PM MDT\n",
       "1      2022/08/25 11:39:01 PM MDT\n",
       "0      2022/08/25 11:04:58 PM MDT\n",
       "114    2022/08/27 12:00:28 PM MDT\n",
       "39      2022/08/27 7:25:00 AM MDT\n",
       "Name: Timestamp, dtype: object"
      ]
     },
     "execution_count": 155,
     "metadata": {},
     "output_type": "execute_result"
    }
   ],
   "source": [
    "school_recommendations('2022/08/25 11:28:00 PM MDT').head()"
   ]
  },
  {
   "cell_type": "code",
   "execution_count": null,
   "id": "6a749dc7",
   "metadata": {},
   "outputs": [],
   "source": [
    "##gradio app"
   ]
  },
  {
   "cell_type": "code",
   "execution_count": 182,
   "id": "d4d85e6a",
   "metadata": {},
   "outputs": [],
   "source": [
    "import pickle\n",
    "import gradio as gr\n",
    "import tensorflow as tf\n",
    "import matplotlib.pyplot as plt"
   ]
  },
  {
   "cell_type": "code",
   "execution_count": 183,
   "id": "a322964b",
   "metadata": {},
   "outputs": [
    {
     "data": {
      "text/plain": [
       "Index(['Timestamp', 'Sex', 'Age',\n",
       "       'What single most factor would you consider when selecting an academic institution?',\n",
       "       'Ratings'],\n",
       "      dtype='object')"
      ]
     },
     "execution_count": 183,
     "metadata": {},
     "output_type": "execute_result"
    }
   ],
   "source": [
    "data.columns"
   ]
  },
  {
   "cell_type": "code",
   "execution_count": 220,
   "id": "a549c34c",
   "metadata": {},
   "outputs": [],
   "source": [
    "x= data.drop(['Timestamp', 'Age','Sex',\n",
    "      'What single most factor would you consider when selecting an academic institution?'], axis=1)\n",
    "\n",
    "y =data['Sex']"
   ]
  },
  {
   "cell_type": "code",
   "execution_count": 221,
   "id": "df8f6e0c",
   "metadata": {},
   "outputs": [],
   "source": [
    "from sklearn.model_selection import train_test_split\n",
    "\n",
    "x_train, x_test, y_train, y_test = train_test_split(x,y)\n",
    "\n",
    "\n"
   ]
  },
  {
   "cell_type": "code",
   "execution_count": 223,
   "id": "2635b233",
   "metadata": {},
   "outputs": [],
   "source": [
    "from sklearn.preprocessing import StandardScaler\n",
    "\n",
    "#instantiate StandardScaler object\n",
    "scaler = StandardScaler()\n",
    "\n",
    "#scale data\n",
    "x_train_scaled = scaler.fit_transform(x_train)\n",
    "\n",
    "\n",
    "x_test_scaled = scaler.fit_transform(x_test)\n",
    "\n",
    "\n",
    "\n"
   ]
  },
  {
   "cell_type": "code",
   "execution_count": 224,
   "id": "0e72e06e",
   "metadata": {},
   "outputs": [],
   "source": [
    "#import model object\n",
    "from sklearn.neural_network import MLPClassifier\n",
    "model =  MLPClassifier(max_iter=1000,  alpha=1)\n",
    "\n"
   ]
  },
  {
   "cell_type": "code",
   "execution_count": 225,
   "id": "1ec92680",
   "metadata": {},
   "outputs": [],
   "source": [
    "from sklearn import preprocessing\n",
    "from sklearn import utils"
   ]
  },
  {
   "cell_type": "code",
   "execution_count": 226,
   "id": "04fd3b94",
   "metadata": {},
   "outputs": [],
   "source": [
    "#convert y values to categorical values\n",
    "lab = preprocessing.LabelEncoder()\n",
    "y_transformed = lab.fit_transform(y)\n"
   ]
  },
  {
   "cell_type": "code",
   "execution_count": 227,
   "id": "bdc7c4f7",
   "metadata": {},
   "outputs": [
    {
     "name": "stdout",
     "output_type": "stream",
     "text": [
      "[1 1 0 1 1 0 1 1 1 1 0 1 0 0 1 0 1 1 1 1 0 0 1 0 0 0 0 0 0 1 0 1 0 0 0 0 0\n",
      " 1 1 0 0 1 0 0 0 0 0 1 0 0 0 0 1 1 0 0 0 0 1 1 1 1 0 0 1 1 1 0 1 1 0 1 1 1\n",
      " 1 0 1 1 1 0 0 1 1 1 0 0 1 1 1 0 1 0 1 1 0 0 0 0 0 1 0 0 0 0 0 0 0 0 0 1 0\n",
      " 1 1 0 0 1 1 0 0 1 0 1 0 0 1 1 0 0 1 0 1 0 1 1 1 0 0 1 0 0 0 1 0 0 1 1 1 1\n",
      " 1 0 0 0 1 0 0 0 0 1 0 0 0 0 1 0 1 1 1 0 0 0 1 0 1 0 1 0 0 0 1 0 0 0 1 1 0\n",
      " 0 0 0 0 0 1 0 0 0 0 1 0 1 0 1 0 0 0 0 1 0 1 0]\n"
     ]
    }
   ],
   "source": [
    "#view transformed values\n",
    "print(y_transformed)\n"
   ]
  },
  {
   "cell_type": "code",
   "execution_count": 228,
   "id": "da4394ac",
   "metadata": {},
   "outputs": [
    {
     "data": {
      "text/plain": [
       "MLPClassifier(alpha=1, max_iter=1000)"
      ]
     },
     "execution_count": 228,
     "metadata": {},
     "output_type": "execute_result"
    }
   ],
   "source": [
    "#train model on training data\n",
    "model.fit(x_train_scaled, y_train)\n"
   ]
  },
  {
   "cell_type": "code",
   "execution_count": 229,
   "id": "5bbf6b40",
   "metadata": {},
   "outputs": [
    {
     "name": "stdout",
     "output_type": "stream",
     "text": [
      "accuracy: 0.6730769230769231\n"
     ]
    }
   ],
   "source": [
    "#getting model performance on test data\n",
    "print(\"accuracy:\", model.score(x_test_scaled, y_test))"
   ]
  },
  {
   "cell_type": "code",
   "execution_count": 231,
   "id": "b41df591",
   "metadata": {},
   "outputs": [
    {
     "data": {
      "text/plain": [
       "(208, 5)"
      ]
     },
     "execution_count": 231,
     "metadata": {},
     "output_type": "execute_result"
    }
   ],
   "source": [
    "data.shape"
   ]
  },
  {
   "cell_type": "code",
   "execution_count": 268,
   "id": "d348bb45",
   "metadata": {},
   "outputs": [],
   "source": [
    "#turning the arguments into a numpy array  \n",
    "def data(Timestamp):\n",
    "    x = np.array([Timestamp])\n",
    "    def test_output_(Ratings):\n",
    "        out = gradio.outputs.text(show_confidences=False)\n",
    "        io = Interface(inputs='Timestamp', outputs=out, model=lambda x: x, model_type='function')\n",
    "        self.assertEqual(io.output_interface, out)\n",
    "    "
   ]
  },
  {
   "cell_type": "code",
   "execution_count": 269,
   "id": "bf8cc612",
   "metadata": {},
   "outputs": [
    {
     "data": {
      "text/plain": [
       "array(['Female', 'Female', 'Female', 'Female', 'Female', 'Female',\n",
       "       'Female', 'Female', 'Female', 'Female', 'Female', 'Female',\n",
       "       'Female', 'Female', 'Female', 'Female', 'Female', 'Female',\n",
       "       'Female', 'Female', 'Female', 'Female', 'Female', 'Female',\n",
       "       'Female', 'Female', 'Female', 'Female', 'Female', 'Female',\n",
       "       'Female', 'Female', 'Female', 'Female', 'Female', 'Female',\n",
       "       'Female', 'Female', 'Female', 'Female', 'Female', 'Female',\n",
       "       'Female', 'Female', 'Female', 'Female', 'Female', 'Female',\n",
       "       'Female', 'Female', 'Female', 'Female'], dtype='<U6')"
      ]
     },
     "execution_count": 269,
     "metadata": {},
     "output_type": "execute_result"
    }
   ],
   "source": [
    "prediction = model.predict(x_test_scaled)\n",
    "prediction"
   ]
  },
  {
   "cell_type": "code",
   "execution_count": 272,
   "id": "3580e54a",
   "metadata": {},
   "outputs": [
    {
     "name": "stderr",
     "output_type": "stream",
     "text": [
      "C:\\Users\\HP\\anaconda3\\lib\\site-packages\\gradio\\outputs.py:21: UserWarning: Usage of gradio.outputs is deprecated, and will not be supported in the future, please import your components from gradio.components\n",
      "  warnings.warn(\n",
      "C:\\Users\\HP\\anaconda3\\lib\\site-packages\\gradio\\deprecation.py:40: UserWarning: The 'type' parameter has been deprecated. Use the Number component instead.\n",
      "  warnings.warn(value)\n"
     ]
    }
   ],
   "source": [
    "outputs = gr.outputs.Textbox()\n",
    "\n",
    "app = gr.Interface(fn=data, inputs=['text'], outputs=['text'],description=\"This model assists you in choosing a high school of your choice\")"
   ]
  },
  {
   "cell_type": "code",
   "execution_count": 273,
   "id": "cf501728",
   "metadata": {},
   "outputs": [
    {
     "name": "stdout",
     "output_type": "stream",
     "text": [
      "Running on local URL:  http://127.0.0.1:7871/\n",
      "Running on public URL: https://41837.gradio.app\n",
      "\n",
      "This share link expires in 72 hours. For free permanent hosting, check out Spaces: https://huggingface.co/spaces\n"
     ]
    },
    {
     "data": {
      "text/html": [
       "<div><iframe src=\"https://41837.gradio.app\" width=\"900\" height=\"500\" allow=\"autoplay; camera; microphone;\" frameborder=\"0\" allowfullscreen></iframe></div>"
      ],
      "text/plain": [
       "<IPython.core.display.HTML object>"
      ]
     },
     "metadata": {},
     "output_type": "display_data"
    },
    {
     "data": {
      "text/plain": [
       "(<gradio.routes.App at 0x1a6f83f0a90>,\n",
       " 'http://127.0.0.1:7871/',\n",
       " 'https://41837.gradio.app')"
      ]
     },
     "execution_count": 273,
     "metadata": {},
     "output_type": "execute_result"
    },
    {
     "name": "stderr",
     "output_type": "stream",
     "text": [
      "Socket exception: An existing connection was forcibly closed by the remote host (10054)\n",
      "Socket exception: An existing connection was forcibly closed by the remote host (10054)\n"
     ]
    }
   ],
   "source": [
    "app.launch(share=True)"
   ]
  },
  {
   "cell_type": "code",
   "execution_count": null,
   "id": "efc2b18b",
   "metadata": {},
   "outputs": [],
   "source": []
  },
  {
   "cell_type": "code",
   "execution_count": null,
   "id": "fa257c79",
   "metadata": {},
   "outputs": [],
   "source": []
  }
 ],
 "metadata": {
  "kernelspec": {
   "display_name": "Python 3 (ipykernel)",
   "language": "python",
   "name": "python3"
  },
  "language_info": {
   "codemirror_mode": {
    "name": "ipython",
    "version": 3
   },
   "file_extension": ".py",
   "mimetype": "text/x-python",
   "name": "python",
   "nbconvert_exporter": "python",
   "pygments_lexer": "ipython3",
   "version": "3.9.12"
  }
 },
 "nbformat": 4,
 "nbformat_minor": 5
}
